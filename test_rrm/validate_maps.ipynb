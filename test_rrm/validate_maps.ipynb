{
 "cells": [
  {
   "cell_type": "code",
   "execution_count": 34,
   "id": "415994bb-1306-460e-86ef-e3a0232a23ea",
   "metadata": {},
   "outputs": [],
   "source": [
    "import xarray as xr\n",
    "import numpy as np\n",
    "from glob import glob\n",
    "import os\n",
    "import subprocess\n",
    "import warnings\n",
    "\n",
    "import shlex\n",
    "import re\n",
    "\n",
    "from collections import namedtuple\n",
    "\n",
    "import matplotlib.pyplot as plt\n",
    "%matplotlib inline"
   ]
  },
  {
   "cell_type": "code",
   "execution_count": 35,
   "id": "a58733c4-7eda-4c4a-a89b-77f2456fcb2f",
   "metadata": {},
   "outputs": [],
   "source": [
    "class BashParser:\n",
    "    \"\"\" Parse a bash script to extract variables\n",
    "    \"\"\"\n",
    "    \n",
    "    def __init__(self, script):\n",
    "        self.script = script\n",
    "        self._lines = []\n",
    "        self.variables = dict()\n",
    "        \n",
    "    def _readlines(self):\n",
    "        if not os.path.isfile(self.script):\n",
    "            warnings.warn(f'{self.script} does not exist')\n",
    "            return\n",
    "        with open(self.script) as FILE:\n",
    "            self._lines = FILE.readlines()\n",
    "    \n",
    "    def _strip_lines(self):\n",
    "        \"\"\"Drop comment lines, blank lines, and whitespace from self._lines\"\"\"\n",
    "        if not self._lines:\n",
    "            self._readlines()\n",
    "        self._lines = [line.strip() for line in self._lines \n",
    "                       if line[0] != \"#\" and line != '\\n']\n",
    "    \n",
    "    def _expand_var(self, var, do_eval=True):\n",
    "        \"\"\" expand ${var}, $var, or `var` into what it should be \"\"\"\n",
    "\n",
    "        # patterns to match ${var} or $var\n",
    "        pattern = '(\\$\\{[a-zA-Z0-9_]*\\}|\\$[a-zA-Z0-9_]*)'\n",
    "        \n",
    "        var = var.split('#')[0].strip()\n",
    "        keys = re.findall(pattern, var)\n",
    "        for key in keys:\n",
    "            stripped_key = key\n",
    "            for char in '${}':\n",
    "                stripped_key = stripped_key.replace(char, '')\n",
    "            if stripped_key in self.variables.keys():\n",
    "                var = var.replace(key, self.variables[stripped_key])\n",
    "            elif stripped_key == 'PWD':\n",
    "                # special case: PWD refers to script directory\n",
    "                var = var.replace(key, os.path.split(self.script)[0])\n",
    "            elif stripped_key in os.environ:\n",
    "                var = var.replace(key, os.environ[stripped_key])\n",
    "        \n",
    "        if do_eval and '`' in var:\n",
    "            exprs = re.findall('`([^`]*)`', var)\n",
    "            # evaluate each expression and replace\n",
    "            for expr in exprs:\n",
    "                args = expr.split()\n",
    "                output = subprocess.run(args, capture_output=True).stdout.decode().strip()\n",
    "                var = var.replace(f'`{expr}`', output)\n",
    "        return var\n",
    "    \n",
    "    def _expand_conditional(self, line):\n",
    "        \"\"\" expand 'if [ cond ]; then' and evaluate cond\"\"\"\n",
    "        pattern = '(\\$\\{[a-zA-Z0-9_]*\\}|\\$[a-zA-Z0-9_]*)'\n",
    "        keys = re.findall(pattern, line)\n",
    "        for key in keys:\n",
    "            stripped_key = key\n",
    "            for char in '${}':\n",
    "                stripped_key = stripped_key.replace(char, '')\n",
    "            if stripped_key in self.variables.keys():\n",
    "                line = line.replace(key, self.variables[stripped_key])\n",
    "            elif stripped_key in os.environ:\n",
    "                line = line.replace(key, os.environ[stripped_key])\n",
    "\n",
    "        # drop everything except the conditional to be evaluated:\n",
    "        # all have form '\"a\" == \"b\"' ...\n",
    "        line_as_list = line.split()\n",
    "        eq_pos = line_as_list.index('==')\n",
    "        cond = line_as_list[eq_pos - 1] == line_as_list[eq_pos + 1]\n",
    "        return line, cond\n",
    "    \n",
    "    def parse(self, verbose=False):\n",
    "        if not self._lines:\n",
    "            self._strip_lines()\n",
    "\n",
    "        do_parse = True\n",
    "        for i, line in enumerate(self._lines):\n",
    "            # check for conditional\n",
    "            if line.lstrip()[0:2] == 'if':\n",
    "                # conditional line starts now -- if it evals to true, then continue parse. \n",
    "                # Else, skip to the next conditional\n",
    "                new_line, do_parse = self._expand_conditional(line)\n",
    "                if verbose:\n",
    "                    if do_parse:\n",
    "                        print('we have a match!', new_line)\n",
    "                    else:\n",
    "                        print('skipping ...', new_line)\n",
    "            elif line.lstrip() == 'fi':\n",
    "                # exiting conditional - return to parsing\n",
    "                do_parse = True\n",
    "                if verbose:\n",
    "                    print(i, 'out of if block')\n",
    "            if not do_parse:\n",
    "                continue\n",
    "            # commence parsing\n",
    "            if '=' in line and '==' not in line:\n",
    "                k, v = line.strip().split('=')\n",
    "                self.variables[k] = self._expand_var(v)\n",
    "        return self.variables"
   ]
  },
  {
   "cell_type": "markdown",
   "id": "3d7e0794-b417-42d6-ae92-51985828e7bf",
   "metadata": {},
   "source": [
    "## Verify files have been generated\n",
    "Goal of this notebook: provide a way to verify files have been verified"
   ]
  },
  {
   "cell_type": "code",
   "execution_count": 41,
   "id": "96288173-4188-4420-8b61-64a8029e4448",
   "metadata": {},
   "outputs": [
    {
     "data": {
      "text/plain": [
       "['/global/homes/c/crjones/eagles/e3sm_grids/ena_rrm/create_atm_initial_condition.sh',\n",
       " '/global/homes/c/crjones/eagles/e3sm_grids/ena_rrm/generate_initial_mesh.sh',\n",
       " '/global/homes/c/crjones/eagles/e3sm_grids/ena_rrm/generate_topo.sh',\n",
       " '/global/homes/c/crjones/eagles/e3sm_grids/ena_rrm/generate_domain_files.sh',\n",
       " '/global/homes/c/crjones/eagles/e3sm_grids/ena_rrm/do_it_all.sh',\n",
       " '/global/homes/c/crjones/eagles/e3sm_grids/ena_rrm/slurm_gen_atmsrf.sh',\n",
       " '/global/homes/c/crjones/eagles/e3sm_grids/ena_rrm/generate_atmsrf.sh',\n",
       " '/global/homes/c/crjones/eagles/e3sm_grids/ena_rrm/generate_mapping_files.sh',\n",
       " '/global/homes/c/crjones/eagles/e3sm_grids/ena_rrm/config.sh',\n",
       " '/global/homes/c/crjones/eagles/e3sm_grids/ena_rrm/slurm_gen_topo.sh']"
      ]
     },
     "execution_count": 41,
     "metadata": {},
     "output_type": "execute_result"
    }
   ],
   "source": [
    "script_dir = '/global/homes/c/crjones/eagles/e3sm_grids/ena_rrm'\n",
    "glob(f'{script_dir}/*.sh')"
   ]
  },
  {
   "cell_type": "code",
   "execution_count": 5,
   "id": "d077af23-9409-4ae9-877b-fda499cfd466",
   "metadata": {},
   "outputs": [
    {
     "data": {
      "text/plain": [
       "{'project': 'm3525',\n",
       " 'script_dir': '/global/homes/c/crjones/eagles/e3sm_grids/ena_rrm',\n",
       " 'tempest_root': '/global/homes/c/crjones/git_repos/tempestremap',\n",
       " 'squadgen_root': '/global/homes/c/crjones/git_repos/SQuadgen',\n",
       " 'inputdata_root': '/global/cfs/cdirs/e3sm/inputdata',\n",
       " 'e3sm_root': '/global/homes/c/crjones/git_repos/E3SM',\n",
       " 'hiccup_root': '/global/homes/c/crjones/git_repos/HICCUP',\n",
       " 'mapping_root': '/project/projectdirs/e3sm/mapping',\n",
       " 'dyn_grid_name': 'enax32v2',\n",
       " 'atm_grid_name': 'enax32v2pg2',\n",
       " 'ocn_grid_name': 'oRRS18to6v3',\n",
       " 'lnd_grid_name': 'r05',\n",
       " 'refine_file': '/global/homes/c/crjones/eagles/e3sm_grids/ena_rrm/meshes/refinement_patch_v2.png',\n",
       " 'refine_level': '5',\n",
       " 'date': '20211209',\n",
       " 'output_root': '/global/cscratch1/sd/crjones/e3sm/grids/enax32v2pg2',\n",
       " 'lnd_grid_file': '/global/cfs/cdirs/e3sm/inputdata/lnd/clm2/mappingdata/grids/SCRIPgrid_0.5x0.5_nomask_c110308.nc',\n",
       " 'lnd_scrip_file': '/global/cfs/cdirs/e3sm/inputdata/lnd/clm2/mappingdata/grids/SCRIPgrid_0.5x0.5_nomask_c110308.nc',\n",
       " 'ocn_grid_file': '/global/cfs/cdirs/e3sm/inputdata/ocn/mpas-o/oRRS18to6v3/ocean.oRRS18to6v3.scrip.181106.nc',\n",
       " 'ocn_scrip_file': '/global/cfs/cdirs/e3sm/inputdata/ocn/mpas-o/oRRS18to6v3/ocean.oRRS18to6v3.scrip.181106.nc',\n",
       " 'machine': '\"cori-knl\"',\n",
       " 'fortran_compiler': '\"ifort\"',\n",
       " 'compiler': '\"intel\"'}"
      ]
     },
     "execution_count": 5,
     "metadata": {},
     "output_type": "execute_result"
    }
   ],
   "source": [
    "BashParser(f'{script_dir}/config.sh').parse()"
   ]
  },
  {
   "cell_type": "code",
   "execution_count": 55,
   "id": "fd7622ba-fe78-40d2-8b2c-e341b5065ca9",
   "metadata": {},
   "outputs": [
    {
     "name": "stdout",
     "output_type": "stream",
     "text": [
      "a\n",
      "b\n"
     ]
    }
   ],
   "source": [
    "dummy = {'a': 'hi', 'b': 'bar'}\n",
    "for k in dummy:\n",
    "    print(k)"
   ]
  },
  {
   "cell_type": "code",
   "execution_count": 56,
   "id": "c35d51ae-f1c8-405f-89f6-886565eda771",
   "metadata": {},
   "outputs": [],
   "source": [
    "def verbose_print(msg, verbose=True):\n",
    "    if verbose:\n",
    "        print(msg)\n",
    "\n",
    "class RRMHelper:\n",
    "    Links = namedtuple('Links', ['script', 'files', 'gen_func', 'kwargs'],\n",
    "                       defaults=[None, None, None, None])\n",
    "    \n",
    "    def __repr__(self):\n",
    "        return f'RRMHelper({self.script_dir}, {self.config_script})'\n",
    "    \n",
    "    def __init__(self, script_dir='', config_script='config.sh'):\n",
    "        self.script_dir = script_dir\n",
    "        self.config_script = config_script\n",
    "        self.variables = BashParser(f'{script_dir}/{config_script}').parse()\n",
    "        self.mesh_files = self._gen_mesh_files()\n",
    "        self.map_files = self._gen_map_files()\n",
    "        self.domain_files = self._gen_domain_files()\n",
    "        self.topography_file = self._gen_topography_file()\n",
    "        self.dry_deposition_file = self._gen_dry_deposition_file()\n",
    "        self.dry_deposition_aux_files = self._gen_dry_deposition_aux_files()\n",
    "        self.topography_aux_files = self._gen_topography_aux_files()\n",
    "        self.atm_ic = self._gen_atm_ic()\n",
    "        self.output = self.check_output()\n",
    "        self._links = {'mesh': RRMHelper.Links('generate_initial_mesh.sh', self.mesh_files, self._gen_mesh_files),\n",
    "                       'map': RRMHelper.Links('generate_mapping_files.sh', self.map_files, self._gen_map_files, ['date']),\n",
    "                       'domain': RRMHelper.Links('generate_domain_files.sh', self.domain_files, self._gen_domain_files, ['date']),\n",
    "                       'topo': RRMHelper.Links('generate_topo.sh', self.topography_file, self._gen_topography_file),\n",
    "                       'dry_dep': RRMHelper.Links('generate_atmsrf.sh', self.dry_deposition_file, self._gen_dry_deposition_file, ['date']),\n",
    "                       'topo_aux': RRMHelper.Links('generate_topo.sh', self.topography_aux_files, self._gen_topography_aux_files),\n",
    "                       'dry_dep_aux': RRMHelper.Links('generate_atmsrf.sh', self.dry_deposition_aux_files, self._gen_dry_deposition_aux_files, ['date']),\n",
    "                       'atm_ic': RRMHelper.Links('create_atm_initial_condition.sh', self.atm_ic, self._gen_atm_ic, ['ic_date'])}\n",
    "        self.dependencies = {'mesh': None,\n",
    "                             'map': 'mesh',\n",
    "                             'domain': ('mesh', 'map'),\n",
    "                             'topo': 'mesh',\n",
    "                             'dry_dep': 'mesh',\n",
    "                             'topo_aux': 'mesh',\n",
    "                             'dry_dep_aux': 'mesh',\n",
    "                             'atm_ic': ('mesh', 'topo')}\n",
    "    \n",
    "    def get_runscript(self, name):\n",
    "        return f'{self.script_dir}/{self._links[name].script}'\n",
    "        \n",
    "    def check_output(self, verbose=False):\n",
    "        # use get method to gracefully fail if output_root doesn't exist\n",
    "        output_contents = glob(f'{self.variables.get(\"output_root\")}/*')\n",
    "        if verbose:\n",
    "            print(f'Contents of output directory {self.variables.get(\"output_root\")}:')\n",
    "            print(*sorted(output_contents), sep='\\n')\n",
    "        return output_contents\n",
    "        \n",
    "    def _check_for_alternate_date(self, link, date_match='latest'):\n",
    "        \"\"\"Use link info to check if other file exists with alternate date\"\"\"\n",
    "        if not link.kwargs:\n",
    "            print(f'No kwargs for {link.gen_func}')\n",
    "            return link.files\n",
    "        # check for alternate dates by inserting '!':\n",
    "        kwargs = {key: '!' for key in link.kwargs}\n",
    "        test_files = link.gen_func(**kwargs)  # this is a dictionary\n",
    "        # strip off date\n",
    "        pos_dict = {key: test.find('!') for key, test in test_files.items()}\n",
    "        # print(pos_dict)\n",
    "        \n",
    "        # regex patterns should match yymmdd, yyyymmdd, yyyy-mm-dd, yy-mm-dd\n",
    "        patterns = {key: f'{test_files[key][:pos]}[\\d\\-]*{test_files[key][pos+1:]}'\n",
    "                    for key, pos in pos_dict.items()}\n",
    "        # print('Patterns', patterns, sep='\\n')\n",
    "        matches = {key: self._search_path_for_alt_dates(patt) for key, patt in patterns.items()}\n",
    "        # print('Matches', matches, sep='\\n')\n",
    "        if date_match == 'latest':\n",
    "            # print(link.files)\n",
    "            return {key: match[-1] if match else link.files[key] for key, match in matches.items()}\n",
    "        else:\n",
    "            return link.files\n",
    "    \n",
    "    def _search_path_for_alt_dates(self, pattern):\n",
    "        matches = []\n",
    "        for f in self.output:\n",
    "            x = re.match(pattern, f)\n",
    "            if x is not None:\n",
    "                matches.append(x.group())\n",
    "        return sorted(matches)\n",
    "    \n",
    "    def check_for_output_files(self, step, date_match='latest', update_output=False, verbose=True):\n",
    "        links = self._links[step]\n",
    "        verbose_print(step, verbose=verbose)\n",
    "        if all(v in self.output for v in links.files.values()):\n",
    "            # found!\n",
    "            verbose_print(f'All {step} files found', verbose=verbose)\n",
    "            return True\n",
    "        else:\n",
    "            if verbose:\n",
    "                print(f'Some {step} files missing')\n",
    "                for v in links.files.values():\n",
    "                    print(v, v in self.output)\n",
    "            if date_match == 'latest':\n",
    "                verbose_print('Searching for other dates', verbose=verbose)\n",
    "                out = self._check_for_alternate_date(links, date_match=date_match)\n",
    "                if update_output:\n",
    "                    verbose_print('Updating output files', verbose=verbose)\n",
    "                    links.files.update(out)\n",
    "                if all(v in self.output for v in out.values()):\n",
    "                    verbose_print(f'All {step} files found with different dates', verbose=verbose)\n",
    "                    return True\n",
    "        return False\n",
    "        \n",
    "    def _locate_files(self, date_match='latest', update_output=False, verbose=True):\n",
    "        \"\"\"Check output directory to see if files exist\"\"\"\n",
    "        kwargs = {'date_match': date_match, 'update_output': update_output, 'verbose': verbose}\n",
    "        success = {key: self.check_for_output_files(key, **kwargs)\n",
    "        verbose_print(success, verbose=verbose)\n",
    "        return success\n",
    "            \n",
    "        \n",
    "    def _locate_files_orig(self, date_match='latest', update_output=False):\n",
    "        \"\"\"Check output directory to see if files exist\"\"\"\n",
    "        for key, links in self._links.items():\n",
    "            print(key)\n",
    "            if all(v in self.output for v in links.files.values()):\n",
    "                # found!\n",
    "                print(f'All {key} files found')\n",
    "            else:\n",
    "                for v in links.files.values():\n",
    "                    print(v, v in self.output)\n",
    "                print(f'Some {key} files missing')\n",
    "                if date_match == 'latest':\n",
    "                    print('Searching for other dates')\n",
    "                    out = self._check_for_alternate_date(links, date_match=date_match)\n",
    "                    # print(out)\n",
    "                    if all(v in self.output for v in out.values()):\n",
    "                        print(f'All {key} files found with different dates')\n",
    "                    if update_output:\n",
    "                        print('Updating output files')\n",
    "                        links.files.update(out)\n",
    "    \n",
    "    def _gen_mesh_files(self):\n",
    "        return {'dyn_grid': f'{self.variables[\"output_root\"]}/{self.variables[\"dyn_grid_name\"]}.g',\n",
    "                'atm_grid': f'{self.variables[\"output_root\"]}/{self.variables[\"atm_grid_name\"]}.g',\n",
    "                'atm_scrip': f'{self.variables[\"output_root\"]}/{self.variables[\"atm_grid_name\"]}_scrip.nc'}\n",
    "\n",
    "    def _gen_map_files(self, date=None):\n",
    "        if date is None:\n",
    "            date = self.variables['date']\n",
    "        out_dir = self.variables['output_root']\n",
    "        ocn = self.variables['ocn_grid_name']\n",
    "        lnd = self.variables['lnd_grid_name']\n",
    "        atm = self.variables['atm_grid_name']\n",
    "        return {'map_ocn_to_lnd': f'{out_dir}/map_{ocn}_to_{lnd}_aave.{date}.nc',\n",
    "                'map_ocn_to_atm': f'{out_dir}/map_{ocn}_to_{atm}_mono.{date}.nc',\n",
    "                'map_atm_to_ocn': f'{out_dir}/map_{atm}_to_{ocn}_mono.{date}.nc',\n",
    "                'map_lnd_to_atm': f'{out_dir}/map_{lnd}_to_{atm}_mono.{date}.nc',\n",
    "                'map_atm_to_lnd': f'{out_dir}/map_{atm}_to_{lnd}_mono.{date}.nc',\n",
    "                'map_ocn_to_lnd': f'{out_dir}/map_{ocn}_to_{lnd}_mono.{date}.nc',\n",
    "                'map_atm_to_lnd_bilin': f'{out_dir}/map_{atm}_to_{lnd}_bilin.{date}.nc',\n",
    "                'map_atm_to_ocn_bilin': f'{out_dir}/map_{atm}_to_{ocn}_bilin.{date}.nc',\n",
    "                'map_ocn_to_lnd_nco': f'{out_dir}/map_{ocn}_to_{lnd}_nco.{date}.nc'}\n",
    "\n",
    "    def _gen_domain_files(self, date=None):\n",
    "        if date is None:\n",
    "            date = self.variables['date']\n",
    "        out_dir = self.variables['output_root']\n",
    "        ocn = self.variables['ocn_grid_name']\n",
    "        lnd = self.variables['lnd_grid_name']\n",
    "        atm = self.variables['atm_grid_name']\n",
    "        return {'ocn_domain_atm_ocn': f'{out_dir}/domain.ocn.{atm}_{ocn}.{date}.nc',\n",
    "                'lnd_domain_atm_ocn': f'{out_dir}/domain.lnd.{atm}_{ocn}.{date}.nc',\n",
    "                'ocn_domain_lnd_ocn': f'{out_dir}/domain.ocn.{lnd}_{ocn}.{date}.nc',\n",
    "                'ocn_domain': f'{out_dir}/domain.ocn.{ocn}.{date}.nc',\n",
    "                'lnd_domain_lnd_ocn': f'{out_dir}/domain.lnd.{lnd}_{ocn}.{date}.nc'}\n",
    "\n",
    "    def _gen_topography_file(self):\n",
    "        out_dir = self.variables['output_root']\n",
    "        atm = self.variables['atm_grid_name']\n",
    "        return {'topo': f'{out_dir}/USGS-gtopo30_{atm}_12xdel2.nc'}\n",
    "\n",
    "    def _gen_topography_aux_files(self):\n",
    "        out_dir = self.variables['output_root']\n",
    "        dyn = self.variables['dyn_grid_name']\n",
    "        atm = self.variables['atm_grid_name']\n",
    "        return {'namelist': f'{out_dir}/homme_tool_input.nl',\n",
    "                'pg4_grid': f'{out_dir}/{dyn}pg4.g',\n",
    "                'pg4_scrip': f'{out_dir}/{dyn}pg4_scrip.nc',\n",
    "                'pg4_topo': f'{out_dir}/{dyn}pg4_topo.nc',\n",
    "                'smoothed_topo': f'{out_dir}/{atm}_smoothed_phis1.nc'}\n",
    "\n",
    "    def _gen_dry_deposition_file(self, date=None):\n",
    "        return {'atmsrf': f'{self.variables[\"output_root\"]}/atmsrf_{self.variables[\"atm_grid_name\"]}_{date}.nc'}\n",
    "\n",
    "    def _gen_dry_deposition_aux_files(self, date=None):\n",
    "        out_dir = self.variables['output_root']\n",
    "        atm = self.variables['atm_grid_name']\n",
    "        return {'map': f'{out_dir}/map_1x1_to_{atm}_mono.nc',\n",
    "                'atmsrf_netcdf4': f'{out_dir}/atmsrf_{atm}_{date}_n4.nc'}\n",
    "\n",
    "    def _gen_atm_ic(self, ic_date=None):\n",
    "        \"\"\"ic_date = YYYY-MM-DD for atm initial condition \"\"\"\n",
    "        return {'atm_ic': 'None' if ic_date is None else \n",
    "                f'{self.variables[\"output_root\"]}/HICCUP.atm_era5.{ic_date}.{self.variables[\"atm_grid_name\"]}.L72.nc'}\n",
    "    \n",
    "    def e3sm_config_edit_template(self, header=True, desc='1-deg with ne1024pg2 over ENA'):\n",
    "        \"\"\"Generate text blocks to copy/paste into relevant files\"\"\"        \n",
    "        self._config_grids_txt(header=header, desc=desc)\n",
    "        self._horz_grid_txt(header=header, ncol='infer')\n",
    "        self._namelist_defaults_eam_txt(header=header)\n",
    "        \n",
    "    def get_ncol(self):\n",
    "        if not hasattr(self, 'ncol'):\n",
    "            ds_topo = xr.open_dataset(self.topography_file['topo'])\n",
    "            self.ncol = ds_topo.dims['ncol']\n",
    "        return self.ncol\n",
    "    \n",
    "    def _print_filepath(self, relpath):\n",
    "        filename = f'{self.variables[\"e3sm_root\"]}/{relpath}'\n",
    "        linebreak = '-' * len(filename)\n",
    "        print(linebreak, filename, linebreak, sep='\\n')\n",
    "        \n",
    "    def _config_grids_txt(self, header=True, desc='1-deg with ne1024pg2 over Eastern North Atlantic (version 0 test)'):\n",
    "        if header:\n",
    "            self._print_filepath('cime_config/config_grids.xml')\n",
    "        \n",
    "        atm_grid = self.variables['atm_grid_name']\n",
    "        lnd_grid = self.variables['lnd_grid_name']\n",
    "        ocn_grid = self.variables['ocn_grid_name']\n",
    "        dyn_grid = self.variables['dyn_grid_name']\n",
    "        \n",
    "        model_grid = (f'    <model_grid alias=\"{atm_grid}_{lnd_grid}_{ocn_grid}\">\\n'\n",
    "                      f'      <grid name=\"atm\">ne0np4_{dyn_grid}.pg2</grid>\\n'\n",
    "                      f'      <grid name=\"lnd\">{lnd_grid}</grid>\\n'\n",
    "                      f'      <grid name=\"ocnice\">{ocn_grid}</grid>\\n'\n",
    "                      f'      <grid name=\"rof\">{lnd_grid}</grid>\\n'\n",
    "                      f'      <grid name=\"glc\">null</grid>\\n'\n",
    "                      f'      <grid name=\"wav\">null</grid>\\n'\n",
    "                      f'      <mask>{ocn_grid}</mask>\\n'\n",
    "                      f'    </model_grid>\\n')\n",
    "        \n",
    "        domain_name = (f'    <domain name=\"ne0np4_{dyn_grid}.pg2\">\\n'\n",
    "                       f'      <nx>{self.get_ncol()}</nx>\\n'\n",
    "                       f'      <ny>1</ny>\\n'\n",
    "                       f'      <file grid=\"atm|lnd\" mask=\"{ocn_grid}\">{self.domain_files[\"lnd_domain_atm_ocn\"]}</file>\\n'\n",
    "                       f'      <file grid=\"ice|ocn\" mask=\"{ocn_grid}\">{self.domain_files[\"ocn_domain_atm_ocn\"]}</file>\\n'\n",
    "                       f'      <desc>{desc}</desc>\\n'\n",
    "                       f'    </domain>\\n')\n",
    "        \n",
    "        gridmap_ocn = (f'    <gridmap atm_grid=\"ne0np4_{dyn_grid}.pg2\" ocn_grid=\"{ocn_grid}\">\\n'\n",
    "                       f'      <map name=\"ATM2OCN_FMAPNAME\">{self.map_files[\"map_atm_to_ocn\"]}</map>\\n'\n",
    "                       f'      <map name=\"ATM2OCN_SMAPNAME\">{self.map_files[\"map_atm_to_ocn_bilin\"]}</map>\\n'\n",
    "                       f'      <map name=\"ATM2OCN_VMAPNAME\">{self.map_files[\"map_atm_to_ocn_bilin\"]}</map>\\n'\n",
    "                       f'      <map name=\"OCN2ATM_FMAPNAME\">{self.map_files[\"map_ocn_to_atm\"]}</map>\\n'\n",
    "                       f'      <map name=\"OCN2ATM_SMAPNAME\">{self.map_files[\"map_ocn_to_atm\"]}</map>\\n'\n",
    "                       f'    </gridmap>\\n')\n",
    "        gridmap_lnd = (f'    <gridmap atm_grid=\"ne0np4_{dyn_grid}.pg2\" lnd_grid=\"{lnd_grid}\">\\n'\n",
    "                       f'      <map name=\"ATM2LND_FMAPNAME\">{self.map_files[\"map_atm_to_lnd\"]}</map>\\n'\n",
    "                       f'      <map name=\"ATM2LND_SMAPNAME\">{self.map_files[\"map_atm_to_lnd_bilin\"]}</map>\\n'\n",
    "                       f'      <map name=\"LND2ATM_FMAPNAME\">{self.map_files[\"map_lnd_to_atm\"]}</map>\\n'\n",
    "                       f'      <map name=\"LND2ATM_SMAPNAME\">{self.map_files[\"map_lnd_to_atm\"]}</map>\\n'\n",
    "                       f'    </gridmap>\\n')\n",
    "        gridmap_rof = (f'    <gridmap atm_grid=\"ne0np4_{dyn_grid}.pg2\" rof_grid=\"{lnd_grid}\">\\n'\n",
    "                       f'      <map name=\"ATM2ROF_FMAPNAME\">{self.map_files[\"map_atm_to_lnd\"]}</map>\\n'\n",
    "                       f'      <map name=\"ATM2ROF_SMAPNAME\">{self.map_files[\"map_atm_to_lnd\"]}</map>\\n'\n",
    "                       f'    </gridmap>\\n')\n",
    "\n",
    "        print(model_grid)\n",
    "        print(domain_name)\n",
    "        print(gridmap_ocn)\n",
    "        print(gridmap_lnd)\n",
    "        print(gridmap_ocn)\n",
    "        \n",
    "    def _horz_grid_txt(self, header=True, ncol='infer'):\n",
    "        if header:\n",
    "            self._print_filepath('components/eam/bld/config_files/horiz_grid.xml')\n",
    "        if ncol == 'infer':\n",
    "            ncol = self.get_ncol()            \n",
    "        print(f'<horiz_grid dyn=\"se\" hgrid=\"ne0np4_{self.variables[\"dyn_grid_name\"]}.pg2\"              ncol=\"{ncol}\" csne=\"0\" csnp=\"4\" npg=\"2\" />\\n')\n",
    "        \n",
    "    def _namelist_defaults_eam_txt(self, header=True):\n",
    "        if header:\n",
    "            self._print_filepath('components/eam/bld/namelist_files/namelist_defaults_eam.xml')\n",
    "        dyn_grid = self.variables['dyn_grid_name']\n",
    "        out = (f'<dtime dyn=\"se\"    hgrid=\"ne0np4_{dyn_grid}.pg2\">900</dtime>\\n'\n",
    "               f'<ncdata dyn=\"se\" hgrid=\"ne0np4_{dyn_grid}.pg2\" nlev=\"72\">{self.atm_ic[\"atm_ic\"]}</ncdata>\\n'\n",
    "               f'<bnd_topo hgrid=\"ne0np4_{dyn_grid}\" npg=\"2\">{self.topography_file[\"topo\"]}</bnd_topo>\\n'\n",
    "               f'<drydep_srf_file hgrid=\"ne0np4_{dyn_grid}\" npg=\"2\">{self.dry_deposition_file[\"atmsrf\"]}</drydep_srf_file>\\n'\n",
    "               f'<se_ne hgrid=\"ne0np4_{dyn_grid}\">0</se_ne>\\n'\n",
    "               f'<mesh_file hgrid=\"ne0np4_{dyn_grid}\">{self.mesh_files[\"dyn_grid\"]}</mesh_file>\\n'\n",
    "               f'<nu_top dyn_target=\"theta-l\" hgrid=\"ne0np4_{dyn_grid}\"> 1e5 </nu_top>\\n'\n",
    "               f'<se_tstep dyn_target=\"theta-l\" hgrid=\"ne0np4_{dyn_grid}\"> 75 </se_tstep>\\n'\n",
    "               f'<hypervis_subcycle dyn_target=\"theta-l\" hgrid=\"ne0np4_{dyn_grid}\"  > 2 </hypervis_subcycle>\\n'\n",
    "               f'<nu dyn_target=\"preqx\" hgrid=\"ne0np4_{dyn_grid}\">8.0e-8</nu>\\n'\n",
    "               f'<nu_div dyn_target=\"preqx\" hgrid=\"ne0np4_{dyn_grid}\">20.0e-8</nu_div>\\n'\n",
    "               f'<hypervis_scaling dyn_target=\"preqx\" hgrid=\"ne0np4_{dyn_grid}\">3.2</hypervis_scaling>\\n'\n",
    "               f'<se_nsplit dyn_target=\"preqx\" hgrid=\"ne0np4_{dyn_grid}\">4</se_nsplit>\\n'\n",
    "               f'<hypervis_subcycle hgrid=\"ne0np4_{dyn_grid}\" dyn_target=\"preqx\">7</hypervis_subcycle>\\n'\n",
    "               f'<fatmlndfrc hgrid=\"ne0np4_{dyn_grid}\">{self.domain_files[\"lnd_domain_atm_ocn\"]}</fatmlndfrc>\\n'\n",
    "               f'<focndomain hgrid=\"ne0np4_{dyn_grid}\">{self.domain_files[\"ocn_domain_atm_ocn\"]}</focndomain>')\n",
    "        print(out)"
   ]
  },
  {
   "cell_type": "code",
   "execution_count": 57,
   "id": "5fe14361-70f1-440d-b472-11541716ed74",
   "metadata": {},
   "outputs": [],
   "source": [
    "class RRMJobMonitor:\n",
    "    valid_steps = {'mesh', 'map', 'domain', 'topo', 'atm_ic', 'dry_dep'}\n",
    "    \n",
    "    def __init__(self, script_dir='', config_script='config.sh'):\n",
    "        self.Helper = RRMHelper(script_dir=script_dir, config_script=config_script)\n",
    "        self.status_file = 'JobStatus.pkl'\n",
    "        \n",
    "    def run_all(self, **kwargs):\n",
    "        current_status = self.Helper._locate_files(**kwargs)\n",
    "        work_to_do = [key for key,val in current_status.items() if not val]\n",
    "        while work_to_do:\n",
    "            pass\n",
    "        \n",
    "    def run(self, step):\n",
    "        if step not in self.valid_steps:\n",
    "            raise ValueError(f'{step} must be one of {self.valid_steps}')\n",
    "        script = self.Helper.get_runscript(step)\n",
    "        print(script)"
   ]
  },
  {
   "cell_type": "code",
   "execution_count": 58,
   "id": "3b9add63-6ee1-49da-887d-5a050762806a",
   "metadata": {},
   "outputs": [
    {
     "data": {
      "text/plain": [
       "RRMHelper(/global/homes/c/crjones/eagles/e3sm_grids/ena_rrm, config.sh)"
      ]
     },
     "execution_count": 58,
     "metadata": {},
     "output_type": "execute_result"
    }
   ],
   "source": [
    "JobMonitor = RRMJobMonitor(script_dir=script_dir)\n",
    "JobMonitor.Helper"
   ]
  },
  {
   "cell_type": "code",
   "execution_count": 59,
   "id": "9d9746c9-c58b-4e39-8a16-ca2ecd99bdae",
   "metadata": {},
   "outputs": [
    {
     "name": "stdout",
     "output_type": "stream",
     "text": [
      "mesh\n",
      "All mesh files found\n",
      "map\n",
      "All map files found\n",
      "domain\n",
      "Some domain files missing\n",
      "/global/cscratch1/sd/crjones/e3sm/grids/enax32v2pg2/domain.ocn.enax32v2pg2_oRRS18to6v3.20211209.nc False\n",
      "/global/cscratch1/sd/crjones/e3sm/grids/enax32v2pg2/domain.lnd.enax32v2pg2_oRRS18to6v3.20211209.nc False\n",
      "/global/cscratch1/sd/crjones/e3sm/grids/enax32v2pg2/domain.ocn.r05_oRRS18to6v3.20211209.nc False\n",
      "/global/cscratch1/sd/crjones/e3sm/grids/enax32v2pg2/domain.ocn.oRRS18to6v3.20211209.nc False\n",
      "/global/cscratch1/sd/crjones/e3sm/grids/enax32v2pg2/domain.lnd.r05_oRRS18to6v3.20211209.nc False\n",
      "Searching for other dates\n",
      "All domain files found with different dates\n",
      "topo\n",
      "All topo files found\n",
      "dry_dep\n",
      "Some dry_dep files missing\n",
      "/global/cscratch1/sd/crjones/e3sm/grids/enax32v2pg2/atmsrf_enax32v2pg2_None.nc False\n",
      "Searching for other dates\n",
      "All dry_dep files found with different dates\n",
      "topo_aux\n",
      "All topo_aux files found\n",
      "dry_dep_aux\n",
      "Some dry_dep_aux files missing\n",
      "/global/cscratch1/sd/crjones/e3sm/grids/enax32v2pg2/map_1x1_to_enax32v2pg2_mono.nc True\n",
      "/global/cscratch1/sd/crjones/e3sm/grids/enax32v2pg2/atmsrf_enax32v2pg2_None_n4.nc False\n",
      "Searching for other dates\n",
      "All dry_dep_aux files found with different dates\n",
      "atm_ic\n",
      "Some atm_ic files missing\n",
      "None False\n",
      "Searching for other dates\n",
      "All atm_ic files found with different dates\n",
      "{'mesh': True, 'map': True, 'domain': True, 'topo': True, 'dry_dep': True, 'topo_aux': True, 'dry_dep_aux': True, 'atm_ic': True}\n"
     ]
    },
    {
     "data": {
      "text/plain": [
       "{'mesh': True,\n",
       " 'map': True,\n",
       " 'domain': True,\n",
       " 'topo': True,\n",
       " 'dry_dep': True,\n",
       " 'topo_aux': True,\n",
       " 'dry_dep_aux': True,\n",
       " 'atm_ic': True}"
      ]
     },
     "execution_count": 59,
     "metadata": {},
     "output_type": "execute_result"
    }
   ],
   "source": [
    "JobMonitor.Helper._locate_files()"
   ]
  },
  {
   "cell_type": "code",
   "execution_count": 54,
   "id": "0c3aa0f8-6d5b-41b9-a7a3-3060b7d1ea61",
   "metadata": {},
   "outputs": [
    {
     "name": "stdout",
     "output_type": "stream",
     "text": [
      "/global/homes/c/crjones/eagles/e3sm_grids/ena_rrm/generate_initial_mesh.sh\n"
     ]
    }
   ],
   "source": [
    "JobMonitor.run('mesh')"
   ]
  },
  {
   "cell_type": "code",
   "execution_count": null,
   "id": "2d147b58-717a-467a-a4a1-9fb583743d30",
   "metadata": {},
   "outputs": [],
   "source": [
    "\"\"\"    \n",
    "------------------------------\n",
    "cime_config/config_grids.xml\n",
    "------------------------------\n",
    "\n",
    "    <model_grid alias=\"enax32v2pg2_r05_oRRS18to6v3\">\n",
    "      <grid name=\"atm\">ne0np4_enax32v2.pg2</grid>\n",
    "      <grid name=\"lnd\">r05</grid>\n",
    "      <grid name=\"ocnice\">oRRS18to6v3</grid>\n",
    "      <grid name=\"rof\">r05</grid>\n",
    "      <grid name=\"glc\">null</grid>\n",
    "      <grid name=\"wav\">null</grid>\n",
    "      <mask>oRRS18to6v3</mask>\n",
    "    </model_grid>\n",
    "\n",
    "    <domain name=\"ne0np4_enax32v2.pg2\">\n",
    "      <nx>488624</nx>\n",
    "      <ny>1</ny>\n",
    "      <file grid=\"atm|lnd\" mask=\"oRRS18to6v3\">/global/cscratch1/sd/crjones/e3sm/grids/enax32v2pg2/domain.lnd.enax32v2pg2_oRRS18to6v3.211210.nc</file>\n",
    "      <file grid=\"ice|ocn\" mask=\"oRRS18to6v3\">/global/cscratch1/sd/crjones/e3sm/grids/enax32v2pg2/domain.ocn.enax32v2pg2_oRRS18to6v3.211210.nc</file>\n",
    "      <desc>1-deg with ne1024pg2 over Eastern North Atlantic (version 0 test):</desc>\n",
    "    </domain>\n",
    "\n",
    "    <gridmap atm_grid=\"ne0np4_enax32v2.pg2\" ocn_grid=\"oRRS18to6v3\">\n",
    "      <map name=\"ATM2OCN_FMAPNAME\">/global/cscratch1/sd/crjones/e3sm/grids/enax32v2pg2/map_enax32v2pg2_to_oRRS18to6v3_mono.20211209.nc</map>\n",
    "      <map name=\"ATM2OCN_SMAPNAME\">/global/cscratch1/sd/crjones/e3sm/grids/enax32v2pg2/map_enax32v2pg2_to_oRRS18to6v3_bilin.20211209.nc</map>\n",
    "      <map name=\"ATM2OCN_VMAPNAME\">/global/cscratch1/sd/crjones/e3sm/grids/enax32v2pg2/map_enax32v2pg2_to_oRRS18to6v3_bilin.20211209.nc</map>\n",
    "      <map name=\"OCN2ATM_FMAPNAME\">/global/cscratch1/sd/crjones/e3sm/grids/enax32v2pg2/map_oRRS18to6v3_to_enax32v2pg2_mono.20211209.nc</map>\n",
    "      <map name=\"OCN2ATM_SMAPNAME\">/global/cscratch1/sd/crjones/e3sm/grids/enax32v2pg2/map_oRRS18to6v3_to_enax32v2pg2_mono.20211209.nc</map>\n",
    "    </gridmap>                                                                                                                                                               \n",
    "                                                                                                                                                                             \n",
    "    <gridmap atm_grid=\"ne0np4_enax32v2.pg2\" lnd_grid=\"r05\">\n",
    "      <map name=\"ATM2LND_FMAPNAME\">/global/cscratch1/sd/crjones/e3sm/grids/enax32v2pg2/map_enax32v2pg2_to_r05_mono.20211209.nc</map>\n",
    "      <map name=\"ATM2LND_SMAPNAME\">/global/cscratch1/sd/crjones/e3sm/grids/enax32v2pg2/map_enax32v2pg2_to_r05_bilin.20211209.nc</map>\n",
    "      <map name=\"LND2ATM_FMAPNAME\">/global/cscratch1/sd/crjones/e3sm/grids/enax32v2pg2/map_r05_to_enax32v2pg2_mono.20211209.nc</map>\n",
    "      <map name=\"LND2ATM_SMAPNAME\">/global/cscratch1/sd/crjones/e3sm/grids/enax32v2pg2/map_r05_to_enax32v2pg2_mono.20211209.nc</map>\n",
    "    </gridmap>\n",
    "\n",
    "    <gridmap atm_grid=\"ne0np4_enax32v2.pg2\" rof_grid=\"r05\">\n",
    "      <map name=\"ATM2ROF_FMAPNAME\">/global/cscratch1/sd/crjones/e3sm/grids/enax32v2pg2/map_enax32v2pg2_to_r05_mono.20211209.nc</map>\n",
    "      <map name=\"ATM2ROF_SMAPNAME\">/global/cscratch1/sd/crjones/e3sm/grids/enax32v2pg2/map_enax32v2pg2_to_r05_mono.20211209.nc</map>\n",
    "    </gridmap>\n",
    "    \n",
    "-------------------------------------------------\n",
    "components/eam/bld/config_files/horiz_grid.xml\n",
    "-------------------------------------------------\n",
    "<horiz_grid dyn=\"se\" hgrid=\"ne0np4_enax32v2.pg2\"              ncol=\"488624\" csne=\"0\" csnp=\"4\" npg=\"2\" />\n",
    "\n",
    "\n",
    "-------------------------------------------------------------\n",
    "components/eam/bld/namelist_files/namelist_defaults_eam.xml\n",
    "-------------------------------------------------------------\n",
    "<dtime dyn=\"se\"    hgrid=\"ne0np4_enax32v2.pg2\">900</dtime>\n",
    "<ncdata dyn=\"se\" hgrid=\"ne0np4_enax32v2.pg2\" nlev=\"72\">/global/cscratch1/sd/crjones/e3sm/grids/enax32v2pg2/HICCUP.atm_era5.2017-07-18.enax32v2pg2.L72.nc</ncdata>\n",
    "<bnd_topo hgrid=\"ne0np4_enax32v2\" npg=\"2\">/global/cscratch1/sd/crjones/e3sm/grids/enax32v2pg2/USGS-gtopo30_enax32v2pg2_12xdel2.nc</bnd_topo>\n",
    "<drydep_srf_file hgrid=\"ne0np4_enax32v2\" npg=\"2\">/global/cscratch1/sd/crjones/e3sm/grids/enax32v2pg2/atmsrf_enax32v2pg2_20211209.nc</drydep_srf_file>\n",
    "<se_ne hgrid=\"ne0np4_enax32v2\">0</se_ne>\n",
    "<mesh_file hgrid=\"ne0np4_enax32v2\">/global/cscratch1/sd/crjones/e3sm/grids/enax32v2pg2/enax32v2.g</mesh_file>\n",
    "<nu_top dyn_target=\"theta-l\" hgrid=\"ne0np4_enax32v2\"> 1e5 </nu_top>\n",
    "<se_tstep dyn_target=\"theta-l\" hgrid=\"ne0np4_enax32v2\"> 75 </se_tstep>\n",
    "<hypervis_subcycle dyn_target=\"theta-l\" hgrid=\"ne0np4_enax32v2\"  > 2 </hypervis_subcycle>\n",
    "<nu dyn_target=\"preqx\" hgrid=\"ne0np4_enax32v2\">8.0e-8</nu>\n",
    "<nu_div dyn_target=\"preqx\" hgrid=\"ne0np4_enax32v2\">20.0e-8</nu_div>\n",
    "<hypervis_scaling dyn_target=\"preqx\" hgrid=\"ne0np4_enax32v2\">3.2</hypervis_scaling>\n",
    "<se_nsplit dyn_target=\"preqx\" hgrid=\"ne0np4_enax32v2\">4</se_nsplit>\n",
    "<hypervis_subcycle hgrid=\"ne0np4_enax32v2\" dyn_target=\"preqx\">7</hypervis_subcycle>\n",
    "<fatmlndfrc hgrid=\"ne0np4_enax32v2\">/global/cscratch1/sd/crjones/e3sm/grids/enax32v2pg2/domain.lnd.enax32v2pg2_oRRS18to6v3.211210.nc</fatmlndfrc>\n",
    "<focndomain hgrid=\"ne0np4_enax32v2\">/global/cscratch1/sd/crjones/e3sm/grids/enax32v2pg2/domain.ocn.enax32v2pg2_oRRS18to6v3.211210.nc</focndomain>\n",
    "\n",
    "\"\"\""
   ]
  },
  {
   "cell_type": "code",
   "execution_count": 292,
   "id": "a6a148b3-44e4-48f3-8311-11aa611d9ed6",
   "metadata": {},
   "outputs": [
    {
     "name": "stdout",
     "output_type": "stream",
     "text": [
      "mesh\n",
      "All mesh files found\n",
      "map\n",
      "All map files found\n",
      "domain\n",
      "/global/cscratch1/sd/crjones/e3sm/grids/enax32v2pg2/domain.ocn.enax32v2pg2_oRRS18to6v3.20211209.nc False\n",
      "/global/cscratch1/sd/crjones/e3sm/grids/enax32v2pg2/domain.lnd.enax32v2pg2_oRRS18to6v3.20211209.nc False\n",
      "/global/cscratch1/sd/crjones/e3sm/grids/enax32v2pg2/domain.ocn.r05_oRRS18to6v3.20211209.nc False\n",
      "/global/cscratch1/sd/crjones/e3sm/grids/enax32v2pg2/domain.ocn.oRRS18to6v3.20211209.nc False\n",
      "/global/cscratch1/sd/crjones/e3sm/grids/enax32v2pg2/domain.lnd.r05_oRRS18to6v3.20211209.nc False\n",
      "Some domain files missing\n",
      "Searching for other dates\n",
      "All domain files found with different dates\n",
      "Updating output files\n",
      "topo\n",
      "All topo files found\n",
      "dry_dep\n",
      "/global/cscratch1/sd/crjones/e3sm/grids/enax32v2pg2/atmsrf_enax32v2pg2_None.nc False\n",
      "Some dry_dep files missing\n",
      "Searching for other dates\n",
      "All dry_dep files found with different dates\n",
      "Updating output files\n",
      "topo_aux\n",
      "All topo_aux files found\n",
      "dry_dep_aux\n",
      "/global/cscratch1/sd/crjones/e3sm/grids/enax32v2pg2/map_1x1_to_enax32v2pg2_mono.nc True\n",
      "/global/cscratch1/sd/crjones/e3sm/grids/enax32v2pg2/atmsrf_enax32v2pg2_None_n4.nc False\n",
      "Some dry_dep_aux files missing\n",
      "Searching for other dates\n",
      "All dry_dep_aux files found with different dates\n",
      "Updating output files\n",
      "atm_ic\n",
      "None False\n",
      "Some atm_ic files missing\n",
      "Searching for other dates\n",
      "All atm_ic files found with different dates\n",
      "Updating output files\n",
      "-------------------------------------------------------------------\n",
      "/global/homes/c/crjones/git_repos/E3SM/cime_config/config_grids.xml\n",
      "-------------------------------------------------------------------\n",
      "    <model_grid alias=\"enax32v2pg2_r05_oRRS18to6v3\">\n",
      "      <grid name=\"atm\">ne0np4_enax32v2.pg2</grid>\n",
      "      <grid name=\"lnd\">r05</grid>\n",
      "      <grid name=\"ocnice\">oRRS18to6v3</grid>\n",
      "      <grid name=\"rof\">r05</grid>\n",
      "      <grid name=\"glc\">null</grid>\n",
      "      <grid name=\"wav\">null</grid>\n",
      "      <mask>oRRS18to6v3</mask>\n",
      "    </model_grid>\n",
      "\n",
      "    <domain name=\"ne0np4_enax32v2.pg2\">\n",
      "      <nx>488624</nx>\n",
      "      <ny>1</ny>\n",
      "      <file grid=\"atm|lnd\" mask=\"oRRS18to6v3\">/global/cscratch1/sd/crjones/e3sm/grids/enax32v2pg2/domain.lnd.enax32v2pg2_oRRS18to6v3.211210.nc</file>\n",
      "      <file grid=\"ice|ocn\" mask=\"oRRS18to6v3\">/global/cscratch1/sd/crjones/e3sm/grids/enax32v2pg2/domain.ocn.enax32v2pg2_oRRS18to6v3.211210.nc</file>\n",
      "      <desc>1-deg with ne1024pg2 over ENA</desc>\n",
      "    </domain>\n",
      "\n",
      "    <gridmap atm_grid=\"ne0np4_enax32v2.pg2\" ocn_grid=\"oRRS18to6v3\">\n",
      "      <map name=\"ATM2OCN_FMAPNAME\">/global/cscratch1/sd/crjones/e3sm/grids/enax32v2pg2/map_enax32v2pg2_to_oRRS18to6v3_mono.20211209.nc</map>\n",
      "      <map name=\"ATM2OCN_SMAPNAME\">/global/cscratch1/sd/crjones/e3sm/grids/enax32v2pg2/map_enax32v2pg2_to_oRRS18to6v3_bilin.20211209.nc</map>\n",
      "      <map name=\"ATM2OCN_VMAPNAME\">/global/cscratch1/sd/crjones/e3sm/grids/enax32v2pg2/map_enax32v2pg2_to_oRRS18to6v3_bilin.20211209.nc</map>\n",
      "      <map name=\"OCN2ATM_FMAPNAME\">/global/cscratch1/sd/crjones/e3sm/grids/enax32v2pg2/map_oRRS18to6v3_to_enax32v2pg2_mono.20211209.nc</map>\n",
      "      <map name=\"OCN2ATM_SMAPNAME\">/global/cscratch1/sd/crjones/e3sm/grids/enax32v2pg2/map_oRRS18to6v3_to_enax32v2pg2_mono.20211209.nc</map>\n",
      "    </gridmap>\n",
      "\n",
      "    <gridmap atm_grid=\"ne0np4_enax32v2.pg2\" lnd_grid=\"r05\">\n",
      "      <map name=\"ATM2LND_FMAPNAME\">/global/cscratch1/sd/crjones/e3sm/grids/enax32v2pg2/map_enax32v2pg2_to_r05_mono.20211209.nc</map>\n",
      "      <map name=\"ATM2LND_SMAPNAME\">/global/cscratch1/sd/crjones/e3sm/grids/enax32v2pg2/map_enax32v2pg2_to_r05_bilin.20211209.nc</map>\n",
      "      <map name=\"LND2ATM_FMAPNAME\">/global/cscratch1/sd/crjones/e3sm/grids/enax32v2pg2/map_r05_to_enax32v2pg2_mono.20211209.nc</map>\n",
      "      <map name=\"LND2ATM_SMAPNAME\">/global/cscratch1/sd/crjones/e3sm/grids/enax32v2pg2/map_r05_to_enax32v2pg2_mono.20211209.nc</map>\n",
      "    </gridmap>\n",
      "\n",
      "    <gridmap atm_grid=\"ne0np4_enax32v2.pg2\" ocn_grid=\"oRRS18to6v3\">\n",
      "      <map name=\"ATM2OCN_FMAPNAME\">/global/cscratch1/sd/crjones/e3sm/grids/enax32v2pg2/map_enax32v2pg2_to_oRRS18to6v3_mono.20211209.nc</map>\n",
      "      <map name=\"ATM2OCN_SMAPNAME\">/global/cscratch1/sd/crjones/e3sm/grids/enax32v2pg2/map_enax32v2pg2_to_oRRS18to6v3_bilin.20211209.nc</map>\n",
      "      <map name=\"ATM2OCN_VMAPNAME\">/global/cscratch1/sd/crjones/e3sm/grids/enax32v2pg2/map_enax32v2pg2_to_oRRS18to6v3_bilin.20211209.nc</map>\n",
      "      <map name=\"OCN2ATM_FMAPNAME\">/global/cscratch1/sd/crjones/e3sm/grids/enax32v2pg2/map_oRRS18to6v3_to_enax32v2pg2_mono.20211209.nc</map>\n",
      "      <map name=\"OCN2ATM_SMAPNAME\">/global/cscratch1/sd/crjones/e3sm/grids/enax32v2pg2/map_oRRS18to6v3_to_enax32v2pg2_mono.20211209.nc</map>\n",
      "    </gridmap>\n",
      "\n",
      "-------------------------------------------------------------------------------------\n",
      "/global/homes/c/crjones/git_repos/E3SM/components/eam/bld/config_files/horiz_grid.xml\n",
      "-------------------------------------------------------------------------------------\n",
      "<horiz_grid dyn=\"se\" hgrid=\"ne0np4_enax32v2.pg2\"              ncol=\"488624\" csne=\"0\" csnp=\"4\" npg=\"2\" />\n",
      "\n",
      "--------------------------------------------------------------------------------------------------\n",
      "/global/homes/c/crjones/git_repos/E3SM/components/eam/bld/namelist_files/namelist_defaults_eam.xml\n",
      "--------------------------------------------------------------------------------------------------\n",
      "<dtime dyn=\"se\"    hgrid=\"ne0np4_enax32v2.pg2\">900</dtime>\n",
      "<ncdata dyn=\"se\" hgrid=\"ne0np4_enax32v2.pg2\" nlev=\"72\">/global/cscratch1/sd/crjones/e3sm/grids/enax32v2pg2/HICCUP.atm_era5.2017-07-18.enax32v2pg2.L72.nc</ncdata>\n",
      "<bnd_topo hgrid=\"ne0np4_enax32v2\" npg=\"2\">/global/cscratch1/sd/crjones/e3sm/grids/enax32v2pg2/USGS-gtopo30_enax32v2pg2_12xdel2.nc</bnd_topo>\n",
      "<drydep_srf_file hgrid=\"ne0np4_enax32v2\" npg=\"2\">/global/cscratch1/sd/crjones/e3sm/grids/enax32v2pg2/atmsrf_enax32v2pg2_20211209.nc</drydep_srf_file>\n",
      "<se_ne hgrid=\"ne0np4_enax32v2\">0</se_ne>\n",
      "<mesh_file hgrid=\"ne0np4_enax32v2\">/global/cscratch1/sd/crjones/e3sm/grids/enax32v2pg2/enax32v2.g</mesh_file>\n",
      "<nu_top dyn_target=\"theta-l\" hgrid=\"ne0np4_enax32v2\"> 1e5 </nu_top>\n",
      "<se_tstep dyn_target=\"theta-l\" hgrid=\"ne0np4_enax32v2\"> 75 </se_tstep>\n",
      "<hypervis_subcycle dyn_target=\"theta-l\" hgrid=\"ne0np4_enax32v2\"  > 2 </hypervis_subcycle>\n",
      "<nu dyn_target=\"preqx\" hgrid=\"ne0np4_enax32v2\">8.0e-8</nu>\n",
      "<nu_div dyn_target=\"preqx\" hgrid=\"ne0np4_enax32v2\">20.0e-8</nu_div>\n",
      "<hypervis_scaling dyn_target=\"preqx\" hgrid=\"ne0np4_enax32v2\">3.2</hypervis_scaling>\n",
      "<se_nsplit dyn_target=\"preqx\" hgrid=\"ne0np4_enax32v2\">4</se_nsplit>\n",
      "<hypervis_subcycle hgrid=\"ne0np4_enax32v2\" dyn_target=\"preqx\">7</hypervis_subcycle>\n",
      "<fatmlndfrc hgrid=\"ne0np4_enax32v2\">/global/cscratch1/sd/crjones/e3sm/grids/enax32v2pg2/domain.lnd.enax32v2pg2_oRRS18to6v3.211210.nc</fatmlndfrc>\n",
      "<focndomain hgrid=\"ne0np4_enax32v2\">/global/cscratch1/sd/crjones/e3sm/grids/enax32v2pg2/domain.ocn.enax32v2pg2_oRRS18to6v3.211210.nc</focndomain>\n"
     ]
    }
   ],
   "source": [
    "ENA = RRMHelper(script_dir)\n",
    "ENA._locate_files(update_output=True)\n",
    "ENA.e3sm_config_edit_template()"
   ]
  },
  {
   "cell_type": "code",
   "execution_count": 283,
   "id": "2f2eea4d-6a0c-42ec-9c9a-379339c97450",
   "metadata": {},
   "outputs": [
    {
     "data": {
      "text/plain": [
       "488624"
      ]
     },
     "execution_count": 283,
     "metadata": {},
     "output_type": "execute_result"
    }
   ],
   "source": [
    "ENA.ncol"
   ]
  },
  {
   "cell_type": "code",
   "execution_count": 264,
   "id": "367866dd-49c9-4a8e-8650-fe8d83ec77e2",
   "metadata": {},
   "outputs": [
    {
     "name": "stdout",
     "output_type": "stream",
     "text": [
      "-------------------------------------------------------------------\n",
      "/global/homes/c/crjones/git_repos/E3SM/cime_config/config_grids.xml\n",
      "-------------------------------------------------------------------\n",
      "    <model_grid alias=\"enax32v2pg2_r05_oRRS18to6v3\">\n",
      "      <grid name=\"atm\">ne0np4_enax32v2.pg2</grid>\n",
      "      <grid name=\"lnd\">r05</grid>\n",
      "      <grid name=\"ocnice\">oRRS18to6v3</grid>\n",
      "      <grid name=\"rof\">r05</grid>\n",
      "      <grid name=\"glc\">null</grid>\n",
      "      <grid name=\"wav\">null</grid>\n",
      "      <mask>oRRS18to6v3</mask>\n",
      "    </model_grid>\n",
      "\n"
     ]
    }
   ],
   "source": [
    "ENA._config_grids()"
   ]
  },
  {
   "cell_type": "code",
   "execution_count": 258,
   "id": "a0d95883-23d5-4ac5-a23c-3465622c7ae7",
   "metadata": {},
   "outputs": [
    {
     "name": "stdout",
     "output_type": "stream",
     "text": [
      "-------------------------------------------------------------------\n",
      "/global/homes/c/crjones/git_repos/E3SM/cime_config/config_grids.xml\n",
      "-------------------------------------------------------------------\n"
     ]
    }
   ],
   "source": [
    "ENA._print_filepath('cime_config/config_grids.xml')"
   ]
  },
  {
   "cell_type": "code",
   "execution_count": 252,
   "id": "b1d584e4-eeb1-4a00-aff7-4b38d6c87723",
   "metadata": {},
   "outputs": [
    {
     "data": {
      "text/plain": [
       "{'project': 'm3525',\n",
       " 'script_dir': '/global/homes/c/crjones/eagles/e3sm_grids/ena_rrm',\n",
       " 'tempest_root': '/global/homes/c/crjones/git_repos/tempestremap',\n",
       " 'squadgen_root': '/global/homes/c/crjones/git_repos/SQuadgen',\n",
       " 'inputdata_root': '/global/cfs/cdirs/e3sm/inputdata',\n",
       " 'e3sm_root': '/global/homes/c/crjones/git_repos/E3SM',\n",
       " 'hiccup_root': '/global/homes/c/crjones/git_repos/HICCUP',\n",
       " 'mapping_root': '/project/projectdirs/e3sm/mapping',\n",
       " 'dyn_grid_name': 'enax32v2',\n",
       " 'atm_grid_name': 'enax32v2pg2',\n",
       " 'ocn_grid_name': 'oRRS18to6v3',\n",
       " 'lnd_grid_name': 'r05',\n",
       " 'refine_file': '/global/homes/c/crjones/eagles/e3sm_grids/ena_rrm/meshes/refinement_patch_v2.png',\n",
       " 'refine_level': '5',\n",
       " 'date': '20211209',\n",
       " 'output_root': '/global/cscratch1/sd/crjones/e3sm/grids/enax32v2pg2',\n",
       " 'lnd_grid_file': '/global/cfs/cdirs/e3sm/inputdata/lnd/clm2/mappingdata/grids/SCRIPgrid_0.5x0.5_nomask_c110308.nc',\n",
       " 'lnd_scrip_file': '/global/cfs/cdirs/e3sm/inputdata/lnd/clm2/mappingdata/grids/SCRIPgrid_0.5x0.5_nomask_c110308.nc',\n",
       " 'ocn_grid_file': '/global/cfs/cdirs/e3sm/inputdata/ocn/mpas-o/oRRS18to6v3/ocean.oRRS18to6v3.scrip.181106.nc',\n",
       " 'ocn_scrip_file': '/global/cfs/cdirs/e3sm/inputdata/ocn/mpas-o/oRRS18to6v3/ocean.oRRS18to6v3.scrip.181106.nc',\n",
       " 'machine': '\"cori-knl\"',\n",
       " 'fortran_compiler': '\"ifort\"',\n",
       " 'compiler': '\"intel\"'}"
      ]
     },
     "execution_count": 252,
     "metadata": {},
     "output_type": "execute_result"
    }
   ],
   "source": [
    "ENA.variables"
   ]
  },
  {
   "cell_type": "code",
   "execution_count": 246,
   "id": "3cf9f5a6-75bd-4c0e-b86b-9eeb21796263",
   "metadata": {},
   "outputs": [
    {
     "name": "stdout",
     "output_type": "stream",
     "text": [
      "mesh\n",
      "All mesh files found\n",
      "map\n",
      "All map files found\n",
      "domain\n",
      "/global/cscratch1/sd/crjones/e3sm/grids/enax32v2pg2/domain.ocn.enax32v2pg2_oRRS18to6v3.20211209.nc False\n",
      "/global/cscratch1/sd/crjones/e3sm/grids/enax32v2pg2/domain.lnd.enax32v2pg2_oRRS18to6v3.20211209.nc False\n",
      "/global/cscratch1/sd/crjones/e3sm/grids/enax32v2pg2/domain.ocn.r05_oRRS18to6v3.20211209.nc False\n",
      "/global/cscratch1/sd/crjones/e3sm/grids/enax32v2pg2/domain.ocn.oRRS18to6v3.20211209.nc False\n",
      "/global/cscratch1/sd/crjones/e3sm/grids/enax32v2pg2/domain.lnd.r05_oRRS18to6v3.20211209.nc False\n",
      "Some domain files missing\n",
      "Searching for other dates\n",
      "All domain files found with different dates\n",
      "Updating output files\n",
      "topo\n",
      "All topo files found\n",
      "dry_dep\n",
      "/global/cscratch1/sd/crjones/e3sm/grids/enax32v2pg2/atmsrf_enax32v2pg2_None.nc False\n",
      "Some dry_dep files missing\n",
      "Searching for other dates\n",
      "All dry_dep files found with different dates\n",
      "Updating output files\n",
      "topo_aux\n",
      "All topo_aux files found\n",
      "dry_dep_aux\n",
      "/global/cscratch1/sd/crjones/e3sm/grids/enax32v2pg2/map_1x1_to_enax32v2pg2_mono.nc True\n",
      "/global/cscratch1/sd/crjones/e3sm/grids/enax32v2pg2/atmsrf_enax32v2pg2_None_n4.nc False\n",
      "Some dry_dep_aux files missing\n",
      "Searching for other dates\n",
      "All dry_dep_aux files found with different dates\n",
      "Updating output files\n",
      "atm_ic\n",
      "None False\n",
      "Some atm_ic files missing\n",
      "Searching for other dates\n",
      "All atm_ic files found with different dates\n",
      "Updating output files\n"
     ]
    }
   ],
   "source": [
    "ENA._locate_files(update_output=True)"
   ]
  },
  {
   "cell_type": "code",
   "execution_count": 249,
   "id": "c4104837-642d-40bd-bb0d-1116ec788bd7",
   "metadata": {},
   "outputs": [
    {
     "name": "stdout",
     "output_type": "stream",
     "text": [
      "mesh\n",
      "All mesh files found\n",
      "map\n",
      "All map files found\n",
      "domain\n",
      "All domain files found\n",
      "topo\n",
      "All topo files found\n",
      "dry_dep\n",
      "All dry_dep files found\n",
      "topo_aux\n",
      "All topo_aux files found\n",
      "dry_dep_aux\n",
      "All dry_dep_aux files found\n",
      "atm_ic\n",
      "All atm_ic files found\n"
     ]
    }
   ],
   "source": [
    "ENA._locate_files()"
   ]
  },
  {
   "cell_type": "code",
   "execution_count": 251,
   "id": "8b3a8df1-36c8-48c4-9a74-784b27425a29",
   "metadata": {},
   "outputs": [
    {
     "data": {
      "text/plain": [
       "{'dyn_grid': '/global/cscratch1/sd/crjones/e3sm/grids/enax32v2pg2/enax32v2.g',\n",
       " 'atm_grid': '/global/cscratch1/sd/crjones/e3sm/grids/enax32v2pg2/enax32v2pg2.g',\n",
       " 'atm_scrip': '/global/cscratch1/sd/crjones/e3sm/grids/enax32v2pg2/enax32v2pg2_scrip.nc'}"
      ]
     },
     "execution_count": 251,
     "metadata": {},
     "output_type": "execute_result"
    }
   ],
   "source": [
    "ENA.mesh_files"
   ]
  },
  {
   "cell_type": "code",
   "execution_count": 96,
   "id": "dd130c0d-4faf-4f53-92c9-7f1eb995ad6b",
   "metadata": {},
   "outputs": [
    {
     "name": "stdout",
     "output_type": "stream",
     "text": [
      "mesh\n",
      "Links(script='generate_initial_mesh.sh', files={'dyn_grid': '/global/cscratch1/sd/crjones/e3sm/grids/enax32v2pg2/enax32v2.g', 'atm_grid': '/global/cscratch1/sd/crjones/e3sm/grids/enax32v2pg2/enax32v2pg2.g', 'atm_scrip': '/global/cscratch1/sd/crjones/e3sm/grids/enax32v2pg2/enax32v2pg2_scrip.nc'}, gen_func=<bound method RRMHelper._gen_mesh_files of RRMHelper(/global/homes/c/crjones/eagles/e3sm_grids/ena_rrm, config.sh)>, kwargs=None) \n",
      "\n",
      "map\n",
      "Links(script='generate_mapping_files.sh', files={'map_ocn_to_lnd': '/global/cscratch1/sd/crjones/e3sm/grids/enax32v2pg2/map_oRRS18to6v3_to_r05_mono.20211209.nc', 'map_ocn_to_atm': '/global/cscratch1/sd/crjones/e3sm/grids/enax32v2pg2/map_oRRS18to6v3_to_enax32v2pg2_mono.20211209.nc', 'map_atm_to_ocn': '/global/cscratch1/sd/crjones/e3sm/grids/enax32v2pg2/map_enax32v2pg2_to_oRRS18to6v3_mono.20211209.nc', 'map_lnd_to_atm': '/global/cscratch1/sd/crjones/e3sm/grids/enax32v2pg2/map_r05_to_enax32v2pg2_mono.20211209.nc', 'map_atm_to_lnd': '/global/cscratch1/sd/crjones/e3sm/grids/enax32v2pg2/map_enax32v2pg2_to_r05_mono.20211209.nc', 'map_atm_to_lnd_bilin': '/global/cscratch1/sd/crjones/e3sm/grids/enax32v2pg2/map_enax32v2pg2_to_r05_bilin.20211209.nc', 'map_atm_to_ocn_bilin': '/global/cscratch1/sd/crjones/e3sm/grids/enax32v2pg2/map_enax32v2pg2_to_oRRS18to6v3_bilin.20211209.nc', 'map_ocn_to_lnd_nco': '/global/cscratch1/sd/crjones/e3sm/grids/enax32v2pg2/map_oRRS18to6v3_to_r05_nco.20211209.nc'}, gen_func=<bound method RRMHelper._gen_map_files of RRMHelper(/global/homes/c/crjones/eagles/e3sm_grids/ena_rrm, config.sh)>, kwargs=['date']) \n",
      "\n",
      "domain\n",
      "Links(script='generate_domain_files.sh', files={'ocn_domain_atm_ocn': 'domain.ocn.enax32v2pg2_oRRS18to6v3.20211209.nc', 'lnd_domain_atm_ocn': 'domain.lnd.enax32v2pg2_oRRS18to6v3.20211209.nc', 'ocn_domain_lnd_ocn': 'domain.ocn.r05_oRRS18to6v3.20211209.nc', 'ocn_domain': 'domain.ocn.oRRS18to6v3.20211209.nc', 'lnd_domain_lnd_ocn': 'domain.lnd.r05_oRRS18to6v3.20211209.nc'}, gen_func=<bound method RRMHelper._gen_domain_files of RRMHelper(/global/homes/c/crjones/eagles/e3sm_grids/ena_rrm, config.sh)>, kwargs=['date']) \n",
      "\n",
      "topo\n",
      "Links(script='generate_topo.sh', files='/global/cscratch1/sd/crjones/e3sm/grids/enax32v2pg2/USGS-gtopo30_enax32v2pg2_12xdel2.nc', gen_func=<bound method RRMHelper._gen_topography_file of RRMHelper(/global/homes/c/crjones/eagles/e3sm_grids/ena_rrm, config.sh)>, kwargs=None) \n",
      "\n",
      "dry_dep\n",
      "Links(script='generate_atmsrf.sh', files='/global/cscratch1/sd/crjones/e3sm/grids/enax32v2pg2/atmsrf_enax32v2pg2_None.nc', gen_func=<bound method RRMHelper._gen_dry_deposition_file of RRMHelper(/global/homes/c/crjones/eagles/e3sm_grids/ena_rrm, config.sh)>, kwargs=['date']) \n",
      "\n",
      "topo_aux\n",
      "Links(script=None, files=None, gen_func=None, kwargs=None) \n",
      "\n",
      "dry_dep_aux\n",
      "Links(script=None, files=None, gen_func=None, kwargs=None) \n",
      "\n",
      "atm_ic\n",
      "Links(script='create_atm_initial_condition.sh', files=None, gen_func=<bound method RRMHelper.atm_ic of RRMHelper(/global/homes/c/crjones/eagles/e3sm_grids/ena_rrm, config.sh)>, kwargs=['ic_date']) \n",
      "\n"
     ]
    }
   ],
   "source": [
    "for key, val in ENA._links.items():\n",
    "    print(key)\n",
    "    print(val, '\\n')"
   ]
  },
  {
   "cell_type": "code",
   "execution_count": 18,
   "id": "876a237c-4686-47f1-bed2-4ae7c7a15a4a",
   "metadata": {},
   "outputs": [
    {
     "data": {
      "text/plain": [
       "{'map_ocn_to_lnd': '/global/cscratch1/sd/crjones/e3sm/grids/enax32v2pg2/map_oRRS18to6v3_to_r05_mono.20211209.nc',\n",
       " 'map_ocn_to_atm': '/global/cscratch1/sd/crjones/e3sm/grids/enax32v2pg2/map_oRRS18to6v3_to_enax32v2pg2_mono.20211209.nc',\n",
       " 'map_atm_to_ocn': '/global/cscratch1/sd/crjones/e3sm/grids/enax32v2pg2/map_enax32v2pg2_to_oRRS18to6v3_mono.20211209.nc',\n",
       " 'map_lnd_to_atm': '/global/cscratch1/sd/crjones/e3sm/grids/enax32v2pg2/map_r05_to_enax32v2pg2_mono.20211209.nc',\n",
       " 'map_atm_to_lnd': '/global/cscratch1/sd/crjones/e3sm/grids/enax32v2pg2/map_enax32v2pg2_to_r05_mono.20211209.nc',\n",
       " 'map_atm_to_lnd_bilin': '/global/cscratch1/sd/crjones/e3sm/grids/enax32v2pg2/map_enax32v2pg2_to_r05_bilin.20211209.nc',\n",
       " 'map_atm_to_ocn_bilin': '/global/cscratch1/sd/crjones/e3sm/grids/enax32v2pg2/map_enax32v2pg2_to_oRRS18to6v3_bilin.20211209.nc',\n",
       " 'map_ocn_to_lnd_nco': '/global/cscratch1/sd/crjones/e3sm/grids/enax32v2pg2/map_oRRS18to6v3_to_r05_nco.20211209.nc'}"
      ]
     },
     "execution_count": 18,
     "metadata": {},
     "output_type": "execute_result"
    }
   ],
   "source": [
    "ENA.map_files"
   ]
  },
  {
   "cell_type": "code",
   "execution_count": 26,
   "id": "8d25d466-0fed-4619-a71b-b73a168ea8e7",
   "metadata": {},
   "outputs": [
    {
     "data": {
      "text/plain": [
       "{'ocn_domain_atm_ocn': 'domain.ocn.enax32v2pg2_oRRS18to6v3.20211209.nc',\n",
       " 'lnd_domain_atm_ocn': 'domain.lnd.enax32v2pg2_oRRS18to6v3.20211209.nc',\n",
       " 'ocn_domain_lnd_ocn': 'domain.ocn.r05_oRRS18to6v3.20211209.nc',\n",
       " 'ocn_domain': 'domain.ocn.oRRS18to6v3.20211209.nc',\n",
       " 'lnd_domain_lnd_ocn': 'domain.lnd.r05_oRRS18to6v3.20211209.nc'}"
      ]
     },
     "execution_count": 26,
     "metadata": {},
     "output_type": "execute_result"
    }
   ],
   "source": [
    "ENA.domain_files"
   ]
  },
  {
   "cell_type": "code",
   "execution_count": 27,
   "id": "adc835be-6e68-4b95-950a-61f33a9868b2",
   "metadata": {},
   "outputs": [
    {
     "data": {
      "text/plain": [
       "'/global/cscratch1/sd/crjones/e3sm/grids/enax32v2pg2/atmsrf_enax32v2pg2_None.nc'"
      ]
     },
     "execution_count": 27,
     "metadata": {},
     "output_type": "execute_result"
    }
   ],
   "source": [
    "ENA.dry_deposition_file"
   ]
  },
  {
   "cell_type": "code",
   "execution_count": 33,
   "id": "9f8bf237-7a52-43ed-9bb1-f6b9ca635170",
   "metadata": {},
   "outputs": [
    {
     "name": "stdout",
     "output_type": "stream",
     "text": [
      "/global/cscratch1/sd/crjones/e3sm/grids/enax32v2pg2/atmsrf_enax32v2pg2_!.nc\n"
     ]
    },
    {
     "data": {
      "text/plain": [
       "True"
      ]
     },
     "execution_count": 33,
     "metadata": {},
     "output_type": "execute_result"
    }
   ],
   "source": [
    "# strip off date\n",
    "test = ENA._gen_dry_deposition_file(date='!')  # pick special character not in test\n",
    "pos = test.find('!')\n",
    "print(test)\n",
    "test[:pos] in ENA.dry_deposition_file"
   ]
  },
  {
   "cell_type": "code",
   "execution_count": 43,
   "id": "d1325fd8-ba94-4ee9-a03b-fca40d8eb933",
   "metadata": {},
   "outputs": [
    {
     "data": {
      "text/plain": [
       "True"
      ]
     },
     "execution_count": 43,
     "metadata": {},
     "output_type": "execute_result"
    }
   ],
   "source": [
    "truth = '/global/cscratch1/sd/crjones/e3sm/grids/enax32v2pg2/atmsrf_enax32v2pg2_20211209.nc'\n",
    "nontruth = '/global/cscratch1/sd/crjones/e3sm/grids/enax32v2pg2/atmsrf_enax32v2pg2_20211209_n4.nc'\n",
    "test[:pos] in truth\n",
    "test[:pos] in nontruth"
   ]
  },
  {
   "cell_type": "code",
   "execution_count": 53,
   "id": "912c6e1a-6b7d-4159-b26b-8244222927f5",
   "metadata": {},
   "outputs": [
    {
     "data": {
      "text/plain": [
       "'/global/cscratch1/sd/crjones/e3sm/grids/enax32v2pg2/atmsrf_enax32v2pg2_'"
      ]
     },
     "execution_count": 53,
     "metadata": {},
     "output_type": "execute_result"
    }
   ],
   "source": [
    "test[:pos]"
   ]
  },
  {
   "cell_type": "code",
   "execution_count": 50,
   "id": "c844cfdc-e8b7-4af3-b76f-a7c5ab9b6f6c",
   "metadata": {},
   "outputs": [
    {
     "data": {
      "text/plain": [
       "['20211209']"
      ]
     },
     "execution_count": 50,
     "metadata": {},
     "output_type": "execute_result"
    }
   ],
   "source": [
    "re.findall(f'{test[:pos]}([\\d]*){test[pos+1:]}', truth)"
   ]
  },
  {
   "cell_type": "code",
   "execution_count": 58,
   "id": "5a895fff-091e-4fe6-9f86-578867142fe3",
   "metadata": {},
   "outputs": [],
   "source": [
    "x = re.match(f'{test[:pos]}([\\d]*){test[pos+1:]}', truth)"
   ]
  },
  {
   "cell_type": "code",
   "execution_count": 73,
   "id": "a1494df5-1dbc-48bd-9f04-ce48aceccdde",
   "metadata": {},
   "outputs": [
    {
     "data": {
      "text/plain": [
       "'/global/cscratch1/sd/crjones/e3sm/grids/enax32v2pg2/atmsrf_enax32v2pg2_20211209.nc'"
      ]
     },
     "execution_count": 73,
     "metadata": {},
     "output_type": "execute_result"
    }
   ],
   "source": [
    "x.group()"
   ]
  },
  {
   "cell_type": "code",
   "execution_count": 57,
   "id": "7887308c-db93-45b5-b47b-5674907b33e2",
   "metadata": {},
   "outputs": [
    {
     "data": {
      "text/plain": [
       "'/global/cscratch1/sd/crjones/e3sm/grids/enax32v2pg2/atmsrf_enax32v2pg2_20211209.nc'"
      ]
     },
     "execution_count": 57,
     "metadata": {},
     "output_type": "execute_result"
    }
   ],
   "source": [
    "re.search(f'{test[:pos]}([\\d]*){test[pos+1:]}', truth).group()"
   ]
  },
  {
   "cell_type": "code",
   "execution_count": 48,
   "id": "9f356841-53fd-44d6-b956-1b3e6879ddae",
   "metadata": {},
   "outputs": [],
   "source": [
    "test2 = '/global/cscratch1/sd/crjones/e3sm/grids/enax32v2pg2/map_oRRS18to6v3_to_enax32v2pg2_mono.!.nc'\n",
    "pos2 = test2.find('!')"
   ]
  },
  {
   "cell_type": "code",
   "execution_count": 169,
   "id": "bcbbfc1e-5cb8-487c-8dce-b3567e83245c",
   "metadata": {},
   "outputs": [
    {
     "name": "stdout",
     "output_type": "stream",
     "text": [
      "['/global/cscratch1/sd/crjones/e3sm/grids/enax32v2pg2/map_oRRS18to6v3_to_enax32v2pg2_mono.20211208.nc', '/global/cscratch1/sd/crjones/e3sm/grids/enax32v2pg2/map_oRRS18to6v3_to_enax32v2pg2_mono.20211209.nc']\n"
     ]
    }
   ],
   "source": [
    "matches = []\n",
    "for f in ENA.output:\n",
    "    x = re.match(f'{test2[:pos2]}([\\d]*){test2[pos2+1:]}', f)\n",
    "    if x is not None:\n",
    "        matches.append(x.group())\n",
    "print(sorted(matches))"
   ]
  },
  {
   "cell_type": "code",
   "execution_count": 172,
   "id": "0b884fe5-0d58-430f-ba23-89556eb4f560",
   "metadata": {},
   "outputs": [
    {
     "data": {
      "text/plain": [
       "{'atm_ic': '/global/cscratch1/sd/crjones/e3sm/grids/enax32v2pg2/HICCUP.atm_era5.2017-01-17.enax32v2pg2.L72.nc'}"
      ]
     },
     "execution_count": 172,
     "metadata": {},
     "output_type": "execute_result"
    }
   ],
   "source": [
    "ENA.atm_ic = ENA._gen_atm_ic(ic_date='2017-01-17')\n",
    "ENA.atm_ic"
   ]
  },
  {
   "cell_type": "code",
   "execution_count": 174,
   "id": "2da42fde-2c77-4e89-afec-2094b1c6d5f1",
   "metadata": {},
   "outputs": [
    {
     "data": {
      "text/plain": [
       "{'atm_ic': '/global/cscratch1/sd/crjones/e3sm/grids/enax32v2pg2/HICCUP.atm_era5.!.enax32v2pg2.L72.nc'}"
      ]
     },
     "execution_count": 174,
     "metadata": {},
     "output_type": "execute_result"
    }
   ],
   "source": [
    "test = ENA._gen_atm_ic(ic_date='!')\n",
    "test"
   ]
  },
  {
   "cell_type": "code",
   "execution_count": 179,
   "id": "bce40c0f-914c-414f-97c9-a8ca03b9e854",
   "metadata": {},
   "outputs": [],
   "source": [
    "truth = '/global/cscratch1/sd/crjones/e3sm/grids/enax32v2pg2/HICCUP.atm_era5.2017-07-18.enax32v2pg2.L72.nc'"
   ]
  },
  {
   "cell_type": "code",
   "execution_count": 190,
   "id": "e1f37904-a214-4ce9-b6a1-bd1dbe19a745",
   "metadata": {},
   "outputs": [
    {
     "data": {
      "text/plain": [
       "'/global/cscratch1/sd/crjones/e3sm/grids/enax32v2pg2/HICCUP.atm_era5.2017-07-18.enax32v2pg2.L72.nc'"
      ]
     },
     "execution_count": 190,
     "metadata": {},
     "output_type": "execute_result"
    }
   ],
   "source": [
    "test_str = test['atm_ic']\n",
    "pos = test_str.find('!')\n",
    "patt = f'{test_str[:pos]}[\\d\\-]*{test_str[pos+1:]}'\n",
    "re.match(patt, truth).group()"
   ]
  },
  {
   "cell_type": "code",
   "execution_count": 42,
   "id": "395f3443-3bf4-4997-af3f-64b48742320f",
   "metadata": {},
   "outputs": [
    {
     "data": {
      "text/plain": [
       "['201209', '20211209']"
      ]
     },
     "execution_count": 42,
     "metadata": {},
     "output_type": "execute_result"
    }
   ],
   "source": [
    "sorted(['20211209', '201209'])"
   ]
  },
  {
   "cell_type": "code",
   "execution_count": 34,
   "id": "95de7af7-ecb1-4de6-9192-1ad2ca3ef684",
   "metadata": {},
   "outputs": [
    {
     "data": {
      "text/plain": [
       "['/global/cscratch1/sd/crjones/e3sm/grids/enax32v2pg2/enax32v2.g',\n",
       " '/global/cscratch1/sd/crjones/e3sm/grids/enax32v2pg2/domain.lnd.enax32v2pg2_oRRS18to6v3.211210.nc',\n",
       " '/global/cscratch1/sd/crjones/e3sm/grids/enax32v2pg2/map_oRRS18to6v3_to_r05_mono.20211209.nc',\n",
       " '/global/cscratch1/sd/crjones/e3sm/grids/enax32v2pg2/map_enax32v2pg2_to_r05_bilin.20211209.nc',\n",
       " '/global/cscratch1/sd/crjones/e3sm/grids/enax32v2pg2/domain.ocn.r05_oRRS18to6v3.211210.nc',\n",
       " '/global/cscratch1/sd/crjones/e3sm/grids/enax32v2pg2/enax32v2pg4_scrip.nc',\n",
       " '/global/cscratch1/sd/crjones/e3sm/grids/enax32v2pg2/map_oRRS18to6v3_to_enax32v2pg2_mono.20211208.nc',\n",
       " '/global/cscratch1/sd/crjones/e3sm/grids/enax32v2pg2/enax32v2pg4_topo.nc',\n",
       " '/global/cscratch1/sd/crjones/e3sm/grids/enax32v2pg2/mass.out',\n",
       " '/global/cscratch1/sd/crjones/e3sm/grids/enax32v2pg2/enax32v2pg2_scrip.nc',\n",
       " '/global/cscratch1/sd/crjones/e3sm/grids/enax32v2pg2/HICCUP.atm_era5.2017-07-18.enax32v2pg2.L72.nc',\n",
       " '/global/cscratch1/sd/crjones/e3sm/grids/enax32v2pg2/map_oRRS18to6v3_to_r05_nco.20211209.nc',\n",
       " '/global/cscratch1/sd/crjones/e3sm/grids/enax32v2pg2/map_oRRS18to6v3_to_r05_aave.20211209.nc',\n",
       " '/global/cscratch1/sd/crjones/e3sm/grids/enax32v2pg2/map_enax32v2pg2_to_oRRS18to6v3_bilin.20211209.nc',\n",
       " '/global/cscratch1/sd/crjones/e3sm/grids/enax32v2pg2/atmsrf_enax32v2pg2_20211209.nc',\n",
       " '/global/cscratch1/sd/crjones/e3sm/grids/enax32v2pg2/map_enax32v2pg2_to_r05_mono.20211209.nc',\n",
       " '/global/cscratch1/sd/crjones/e3sm/grids/enax32v2pg2/enax32v2pg2.g',\n",
       " '/global/cscratch1/sd/crjones/e3sm/grids/enax32v2pg2/homme_tool_input.nl',\n",
       " '/global/cscratch1/sd/crjones/e3sm/grids/enax32v2pg2/domain.ocn.oRRS18to6v3.211210.nc',\n",
       " '/global/cscratch1/sd/crjones/e3sm/grids/enax32v2pg2/domain.lnd.r05_oRRS18to6v3.211210.nc',\n",
       " '/global/cscratch1/sd/crjones/e3sm/grids/enax32v2pg2/domain.ocn.enax32v2pg2_oRRS18to6v3.211210.nc',\n",
       " '/global/cscratch1/sd/crjones/e3sm/grids/enax32v2pg2/map_oRRS18to6v3_to_enax32v2pg2_mono.20211209.nc',\n",
       " '/global/cscratch1/sd/crjones/e3sm/grids/enax32v2pg2/enax32v2pg2_smoothed_phis1.nc',\n",
       " '/global/cscratch1/sd/crjones/e3sm/grids/enax32v2pg2/atmsrf_enax32v2pg2_20211209_n4.nc',\n",
       " '/global/cscratch1/sd/crjones/e3sm/grids/enax32v2pg2/map_enax32v2pg2_to_oRRS18to6v3_mono.20211209.nc',\n",
       " '/global/cscratch1/sd/crjones/e3sm/grids/enax32v2pg2/map_r05_to_enax32v2pg2_mono.20211209.nc',\n",
       " '/global/cscratch1/sd/crjones/e3sm/grids/enax32v2pg2/enax32v2pg4.g',\n",
       " '/global/cscratch1/sd/crjones/e3sm/grids/enax32v2pg2/USGS-gtopo30_enax32v2pg2_12xdel2.nc',\n",
       " '/global/cscratch1/sd/crjones/e3sm/grids/enax32v2pg2/map_1x1_to_enax32v2pg2_mono.nc']"
      ]
     },
     "execution_count": 34,
     "metadata": {},
     "output_type": "execute_result"
    }
   ],
   "source": [
    "ENA.output"
   ]
  },
  {
   "cell_type": "code",
   "execution_count": 20,
   "id": "6f3220d5-64a7-40dd-b307-4bbc1cb3d902",
   "metadata": {},
   "outputs": [],
   "source": [
    "date = ENA.variables['date']"
   ]
  },
  {
   "cell_type": "code",
   "execution_count": 22,
   "id": "33c02e9b-9cd4-4f38-a43f-9722cfade494",
   "metadata": {},
   "outputs": [
    {
     "data": {
      "text/plain": [
       "True"
      ]
     },
     "execution_count": 22,
     "metadata": {},
     "output_type": "execute_result"
    }
   ],
   "source": [
    "date in ENA.map_files['map_ocn_to_lnd']"
   ]
  },
  {
   "cell_type": "code",
   "execution_count": 25,
   "id": "f4e4b639-9be3-4050-8a71-a649219164b6",
   "metadata": {},
   "outputs": [
    {
     "data": {
      "text/plain": [
       "71"
      ]
     },
     "execution_count": 25,
     "metadata": {},
     "output_type": "execute_result"
    }
   ],
   "source": [
    "'/global/cscratch1/sd/crjones/e3sm/grids/enax32v2pg2/atmsrf_enax32v2pg2_20211209.nc'.find('2021')"
   ]
  },
  {
   "cell_type": "code",
   "execution_count": 17,
   "id": "132b0157-36ea-4c1e-a4e2-fd6792bf45b8",
   "metadata": {},
   "outputs": [
    {
     "name": "stdout",
     "output_type": "stream",
     "text": [
      "/global/cscratch1/sd/crjones/e3sm/grids/enax32v2pg2/HICCUP.atm_era5.2017-07-18.enax32v2pg2.L72.nc\n",
      "/global/cscratch1/sd/crjones/e3sm/grids/enax32v2pg2/USGS-gtopo30_enax32v2pg2_12xdel2.nc\n",
      "/global/cscratch1/sd/crjones/e3sm/grids/enax32v2pg2/atmsrf_enax32v2pg2_20211209.nc\n",
      "/global/cscratch1/sd/crjones/e3sm/grids/enax32v2pg2/atmsrf_enax32v2pg2_20211209_n4.nc\n",
      "/global/cscratch1/sd/crjones/e3sm/grids/enax32v2pg2/domain.lnd.enax32v2pg2_oRRS18to6v3.211210.nc\n",
      "/global/cscratch1/sd/crjones/e3sm/grids/enax32v2pg2/domain.lnd.r05_oRRS18to6v3.211210.nc\n",
      "/global/cscratch1/sd/crjones/e3sm/grids/enax32v2pg2/domain.ocn.enax32v2pg2_oRRS18to6v3.211210.nc\n",
      "/global/cscratch1/sd/crjones/e3sm/grids/enax32v2pg2/domain.ocn.oRRS18to6v3.211210.nc\n",
      "/global/cscratch1/sd/crjones/e3sm/grids/enax32v2pg2/domain.ocn.r05_oRRS18to6v3.211210.nc\n",
      "/global/cscratch1/sd/crjones/e3sm/grids/enax32v2pg2/enax32v2.g\n",
      "/global/cscratch1/sd/crjones/e3sm/grids/enax32v2pg2/enax32v2pg2.g\n",
      "/global/cscratch1/sd/crjones/e3sm/grids/enax32v2pg2/enax32v2pg2_scrip.nc\n",
      "/global/cscratch1/sd/crjones/e3sm/grids/enax32v2pg2/enax32v2pg2_smoothed_phis1.nc\n",
      "/global/cscratch1/sd/crjones/e3sm/grids/enax32v2pg2/enax32v2pg4.g\n",
      "/global/cscratch1/sd/crjones/e3sm/grids/enax32v2pg2/enax32v2pg4_scrip.nc\n",
      "/global/cscratch1/sd/crjones/e3sm/grids/enax32v2pg2/enax32v2pg4_topo.nc\n",
      "/global/cscratch1/sd/crjones/e3sm/grids/enax32v2pg2/homme_tool_input.nl\n",
      "/global/cscratch1/sd/crjones/e3sm/grids/enax32v2pg2/map_1x1_to_enax32v2pg2_mono.nc\n",
      "/global/cscratch1/sd/crjones/e3sm/grids/enax32v2pg2/map_enax32v2pg2_to_oRRS18to6v3_bilin.20211209.nc\n",
      "/global/cscratch1/sd/crjones/e3sm/grids/enax32v2pg2/map_enax32v2pg2_to_oRRS18to6v3_mono.20211209.nc\n",
      "/global/cscratch1/sd/crjones/e3sm/grids/enax32v2pg2/map_enax32v2pg2_to_r05_bilin.20211209.nc\n",
      "/global/cscratch1/sd/crjones/e3sm/grids/enax32v2pg2/map_enax32v2pg2_to_r05_mono.20211209.nc\n",
      "/global/cscratch1/sd/crjones/e3sm/grids/enax32v2pg2/map_oRRS18to6v3_to_enax32v2pg2_mono.20211208.nc\n",
      "/global/cscratch1/sd/crjones/e3sm/grids/enax32v2pg2/map_oRRS18to6v3_to_enax32v2pg2_mono.20211209.nc\n",
      "/global/cscratch1/sd/crjones/e3sm/grids/enax32v2pg2/map_oRRS18to6v3_to_r05_aave.20211209.nc\n",
      "/global/cscratch1/sd/crjones/e3sm/grids/enax32v2pg2/map_oRRS18to6v3_to_r05_mono.20211209.nc\n",
      "/global/cscratch1/sd/crjones/e3sm/grids/enax32v2pg2/map_oRRS18to6v3_to_r05_nco.20211209.nc\n",
      "/global/cscratch1/sd/crjones/e3sm/grids/enax32v2pg2/map_r05_to_enax32v2pg2_mono.20211209.nc\n",
      "/global/cscratch1/sd/crjones/e3sm/grids/enax32v2pg2/mass.out\n"
     ]
    }
   ],
   "source": [
    "ENA.check_output()"
   ]
  },
  {
   "cell_type": "code",
   "execution_count": 12,
   "id": "120d1d7b-0cf3-4c51-916b-8c8c0ea40780",
   "metadata": {},
   "outputs": [
    {
     "data": {
      "text/plain": [
       "{'project': 'm3525',\n",
       " 'script_dir': '/global/homes/c/crjones/eagles/e3sm_grids/ena_rrm',\n",
       " 'tempest_root': '/global/homes/c/crjones/git_repos/tempestremap',\n",
       " 'squadgen_root': '/global/homes/c/crjones/git_repos/SQuadgen',\n",
       " 'inputdata_root': '/global/cfs/cdirs/e3sm/inputdata',\n",
       " 'e3sm_root': '/global/homes/c/crjones/git_repos/E3SM',\n",
       " 'hiccup_root': '/global/homes/c/crjones/git_repos/HICCUP',\n",
       " 'mapping_root': '/project/projectdirs/e3sm/mapping',\n",
       " 'dyn_grid_name': 'enax32v2',\n",
       " 'atm_grid_name': 'enax32v2pg2',\n",
       " 'ocn_grid_name': 'oRRS18to6v3',\n",
       " 'lnd_grid_name': 'r05',\n",
       " 'refine_file': '/global/homes/c/crjones/eagles/e3sm_grids/ena_rrm/meshes/refinement_patch_v2.png',\n",
       " 'refine_level': '5',\n",
       " 'date': '20211209',\n",
       " 'output_root': '/global/cscratch1/sd/crjones/e3sm/grids/enax32v2pg2',\n",
       " 'lnd_grid_file': '/global/cfs/cdirs/e3sm/inputdata/lnd/clm2/mappingdata/grids/SCRIPgrid_0.5x0.5_nomask_c110308.nc',\n",
       " 'lnd_scrip_file': '/global/cfs/cdirs/e3sm/inputdata/lnd/clm2/mappingdata/grids/SCRIPgrid_0.5x0.5_nomask_c110308.nc',\n",
       " 'ocn_grid_file': '/global/cfs/cdirs/e3sm/inputdata/ocn/mpas-o/oRRS18to6v3/ocean.oRRS18to6v3.scrip.181106.nc',\n",
       " 'ocn_scrip_file': '/global/cfs/cdirs/e3sm/inputdata/ocn/mpas-o/oRRS18to6v3/ocean.oRRS18to6v3.scrip.181106.nc',\n",
       " 'machine': '\"cori-knl\"',\n",
       " 'fortran_compiler': '\"ifort\"',\n",
       " 'compiler': '\"intel\"'}"
      ]
     },
     "execution_count": 12,
     "metadata": {},
     "output_type": "execute_result"
    }
   ],
   "source": [
    "ENA.variables"
   ]
  },
  {
   "cell_type": "code",
   "execution_count": 9,
   "id": "b7851e40-70c6-4150-ab21-144a113e52ae",
   "metadata": {},
   "outputs": [],
   "source": [
    "ENA = RRMHelper(script_dir)"
   ]
  },
  {
   "cell_type": "code",
   "execution_count": 250,
   "id": "6456f1d3-7218-4ada-a4ee-84b60c04dabb",
   "metadata": {},
   "outputs": [
    {
     "name": "stdout",
     "output_type": "stream",
     "text": [
      "Help on RRMHelper in module __main__ object:\n",
      "\n",
      "class RRMHelper(builtins.object)\n",
      " |  RRMHelper(script_dir='', config_script='config.sh')\n",
      " |  \n",
      " |  Methods defined here:\n",
      " |  \n",
      " |  __init__(self, script_dir='', config_script='config.sh')\n",
      " |      Initialize self.  See help(type(self)) for accurate signature.\n",
      " |  \n",
      " |  __repr__(self)\n",
      " |      Return repr(self).\n",
      " |  \n",
      " |  check_output(self, verbose=False)\n",
      " |  \n",
      " |  e3sm_config_edits(self)\n",
      " |  \n",
      " |  ----------------------------------------------------------------------\n",
      " |  Data descriptors defined here:\n",
      " |  \n",
      " |  __dict__\n",
      " |      dictionary for instance variables (if defined)\n",
      " |  \n",
      " |  __weakref__\n",
      " |      list of weak references to the object (if defined)\n",
      " |  \n",
      " |  ----------------------------------------------------------------------\n",
      " |  Data and other attributes defined here:\n",
      " |  \n",
      " |  Links = <class '__main__.Links'>\n",
      " |      Links(script, files, gen_func, kwargs)\n",
      "\n"
     ]
    }
   ],
   "source": [
    "help(ENA)"
   ]
  },
  {
   "cell_type": "code",
   "execution_count": 272,
   "id": "78f535ec-8752-45f7-9038-27617f474786",
   "metadata": {},
   "outputs": [
    {
     "data": {
      "text/plain": [
       "{'topo': '/global/cscratch1/sd/crjones/e3sm/grids/enax32v2pg2/USGS-gtopo30_enax32v2pg2_12xdel2.nc'}"
      ]
     },
     "execution_count": 272,
     "metadata": {},
     "output_type": "execute_result"
    }
   ],
   "source": [
    "ENA.topography_file"
   ]
  },
  {
   "cell_type": "code",
   "execution_count": 279,
   "id": "ad685109-2211-4334-8c6e-5336e2c8872a",
   "metadata": {},
   "outputs": [
    {
     "data": {
      "text/plain": [
       "488624"
      ]
     },
     "execution_count": 279,
     "metadata": {},
     "output_type": "execute_result"
    }
   ],
   "source": [
    "ds_topo = xr.open_dataset(ENA.topography_file['topo'])\n",
    "ds_topo.dims['ncol']"
   ]
  },
  {
   "cell_type": "code",
   "execution_count": 278,
   "id": "5a7eebfe-43c6-47a0-8322-8c13cb8281af",
   "metadata": {},
   "outputs": [
    {
     "data": {
      "text/plain": [
       "488624"
      ]
     },
     "execution_count": 278,
     "metadata": {},
     "output_type": "execute_result"
    }
   ],
   "source": [
    "ds_topo.dims['ncol']"
   ]
  },
  {
   "cell_type": "code",
   "execution_count": 237,
   "id": "0941ee3d-862c-4734-856f-c62295ceb363",
   "metadata": {},
   "outputs": [
    {
     "data": {
      "text/html": [
       "<div><svg style=\"position: absolute; width: 0; height: 0; overflow: hidden\">\n",
       "<defs>\n",
       "<symbol id=\"icon-database\" viewBox=\"0 0 32 32\">\n",
       "<title>Show/Hide data repr</title>\n",
       "<path d=\"M16 0c-8.837 0-16 2.239-16 5v4c0 2.761 7.163 5 16 5s16-2.239 16-5v-4c0-2.761-7.163-5-16-5z\"></path>\n",
       "<path d=\"M16 17c-8.837 0-16-2.239-16-5v6c0 2.761 7.163 5 16 5s16-2.239 16-5v-6c0 2.761-7.163 5-16 5z\"></path>\n",
       "<path d=\"M16 26c-8.837 0-16-2.239-16-5v6c0 2.761 7.163 5 16 5s16-2.239 16-5v-6c0 2.761-7.163 5-16 5z\"></path>\n",
       "</symbol>\n",
       "<symbol id=\"icon-file-text2\" viewBox=\"0 0 32 32\">\n",
       "<title>Show/Hide attributes</title>\n",
       "<path d=\"M28.681 7.159c-0.694-0.947-1.662-2.053-2.724-3.116s-2.169-2.030-3.116-2.724c-1.612-1.182-2.393-1.319-2.841-1.319h-15.5c-1.378 0-2.5 1.121-2.5 2.5v27c0 1.378 1.122 2.5 2.5 2.5h23c1.378 0 2.5-1.122 2.5-2.5v-19.5c0-0.448-0.137-1.23-1.319-2.841zM24.543 5.457c0.959 0.959 1.712 1.825 2.268 2.543h-4.811v-4.811c0.718 0.556 1.584 1.309 2.543 2.268zM28 29.5c0 0.271-0.229 0.5-0.5 0.5h-23c-0.271 0-0.5-0.229-0.5-0.5v-27c0-0.271 0.229-0.5 0.5-0.5 0 0 15.499-0 15.5 0v7c0 0.552 0.448 1 1 1h7v19.5z\"></path>\n",
       "<path d=\"M23 26h-14c-0.552 0-1-0.448-1-1s0.448-1 1-1h14c0.552 0 1 0.448 1 1s-0.448 1-1 1z\"></path>\n",
       "<path d=\"M23 22h-14c-0.552 0-1-0.448-1-1s0.448-1 1-1h14c0.552 0 1 0.448 1 1s-0.448 1-1 1z\"></path>\n",
       "<path d=\"M23 18h-14c-0.552 0-1-0.448-1-1s0.448-1 1-1h14c0.552 0 1 0.448 1 1s-0.448 1-1 1z\"></path>\n",
       "</symbol>\n",
       "</defs>\n",
       "</svg>\n",
       "<style>/* CSS stylesheet for displaying xarray objects in jupyterlab.\n",
       " *\n",
       " */\n",
       "\n",
       ":root {\n",
       "  --xr-font-color0: var(--jp-content-font-color0, rgba(0, 0, 0, 1));\n",
       "  --xr-font-color2: var(--jp-content-font-color2, rgba(0, 0, 0, 0.54));\n",
       "  --xr-font-color3: var(--jp-content-font-color3, rgba(0, 0, 0, 0.38));\n",
       "  --xr-border-color: var(--jp-border-color2, #e0e0e0);\n",
       "  --xr-disabled-color: var(--jp-layout-color3, #bdbdbd);\n",
       "  --xr-background-color: var(--jp-layout-color0, white);\n",
       "  --xr-background-color-row-even: var(--jp-layout-color1, white);\n",
       "  --xr-background-color-row-odd: var(--jp-layout-color2, #eeeeee);\n",
       "}\n",
       "\n",
       ".xr-wrap {\n",
       "  min-width: 300px;\n",
       "  max-width: 700px;\n",
       "}\n",
       "\n",
       ".xr-header {\n",
       "  padding-top: 6px;\n",
       "  padding-bottom: 6px;\n",
       "  margin-bottom: 4px;\n",
       "  border-bottom: solid 1px var(--xr-border-color);\n",
       "}\n",
       "\n",
       ".xr-header > div,\n",
       ".xr-header > ul {\n",
       "  display: inline;\n",
       "  margin-top: 0;\n",
       "  margin-bottom: 0;\n",
       "}\n",
       "\n",
       ".xr-obj-type,\n",
       ".xr-array-name {\n",
       "  margin-left: 2px;\n",
       "  margin-right: 10px;\n",
       "}\n",
       "\n",
       ".xr-obj-type {\n",
       "  color: var(--xr-font-color2);\n",
       "}\n",
       "\n",
       ".xr-sections {\n",
       "  padding-left: 0 !important;\n",
       "  display: grid;\n",
       "  grid-template-columns: 150px auto auto 1fr 20px 20px;\n",
       "}\n",
       "\n",
       ".xr-section-item {\n",
       "  display: contents;\n",
       "}\n",
       "\n",
       ".xr-section-item input {\n",
       "  display: none;\n",
       "}\n",
       "\n",
       ".xr-section-item input + label {\n",
       "  color: var(--xr-disabled-color);\n",
       "}\n",
       "\n",
       ".xr-section-item input:enabled + label {\n",
       "  cursor: pointer;\n",
       "  color: var(--xr-font-color2);\n",
       "}\n",
       "\n",
       ".xr-section-item input:enabled + label:hover {\n",
       "  color: var(--xr-font-color0);\n",
       "}\n",
       "\n",
       ".xr-section-summary {\n",
       "  grid-column: 1;\n",
       "  color: var(--xr-font-color2);\n",
       "  font-weight: 500;\n",
       "}\n",
       "\n",
       ".xr-section-summary > span {\n",
       "  display: inline-block;\n",
       "  padding-left: 0.5em;\n",
       "}\n",
       "\n",
       ".xr-section-summary-in:disabled + label {\n",
       "  color: var(--xr-font-color2);\n",
       "}\n",
       "\n",
       ".xr-section-summary-in + label:before {\n",
       "  display: inline-block;\n",
       "  content: '►';\n",
       "  font-size: 11px;\n",
       "  width: 15px;\n",
       "  text-align: center;\n",
       "}\n",
       "\n",
       ".xr-section-summary-in:disabled + label:before {\n",
       "  color: var(--xr-disabled-color);\n",
       "}\n",
       "\n",
       ".xr-section-summary-in:checked + label:before {\n",
       "  content: '▼';\n",
       "}\n",
       "\n",
       ".xr-section-summary-in:checked + label > span {\n",
       "  display: none;\n",
       "}\n",
       "\n",
       ".xr-section-summary,\n",
       ".xr-section-inline-details {\n",
       "  padding-top: 4px;\n",
       "  padding-bottom: 4px;\n",
       "}\n",
       "\n",
       ".xr-section-inline-details {\n",
       "  grid-column: 2 / -1;\n",
       "}\n",
       "\n",
       ".xr-section-details {\n",
       "  display: none;\n",
       "  grid-column: 1 / -1;\n",
       "  margin-bottom: 5px;\n",
       "}\n",
       "\n",
       ".xr-section-summary-in:checked ~ .xr-section-details {\n",
       "  display: contents;\n",
       "}\n",
       "\n",
       ".xr-array-wrap {\n",
       "  grid-column: 1 / -1;\n",
       "  display: grid;\n",
       "  grid-template-columns: 20px auto;\n",
       "}\n",
       "\n",
       ".xr-array-wrap > label {\n",
       "  grid-column: 1;\n",
       "  vertical-align: top;\n",
       "}\n",
       "\n",
       ".xr-preview {\n",
       "  color: var(--xr-font-color3);\n",
       "}\n",
       "\n",
       ".xr-array-preview,\n",
       ".xr-array-data {\n",
       "  padding: 0 5px !important;\n",
       "  grid-column: 2;\n",
       "}\n",
       "\n",
       ".xr-array-data,\n",
       ".xr-array-in:checked ~ .xr-array-preview {\n",
       "  display: none;\n",
       "}\n",
       "\n",
       ".xr-array-in:checked ~ .xr-array-data,\n",
       ".xr-array-preview {\n",
       "  display: inline-block;\n",
       "}\n",
       "\n",
       ".xr-dim-list {\n",
       "  display: inline-block !important;\n",
       "  list-style: none;\n",
       "  padding: 0 !important;\n",
       "  margin: 0;\n",
       "}\n",
       "\n",
       ".xr-dim-list li {\n",
       "  display: inline-block;\n",
       "  padding: 0;\n",
       "  margin: 0;\n",
       "}\n",
       "\n",
       ".xr-dim-list:before {\n",
       "  content: '(';\n",
       "}\n",
       "\n",
       ".xr-dim-list:after {\n",
       "  content: ')';\n",
       "}\n",
       "\n",
       ".xr-dim-list li:not(:last-child):after {\n",
       "  content: ',';\n",
       "  padding-right: 5px;\n",
       "}\n",
       "\n",
       ".xr-has-index {\n",
       "  font-weight: bold;\n",
       "}\n",
       "\n",
       ".xr-var-list,\n",
       ".xr-var-item {\n",
       "  display: contents;\n",
       "}\n",
       "\n",
       ".xr-var-item > div,\n",
       ".xr-var-item label,\n",
       ".xr-var-item > .xr-var-name span {\n",
       "  background-color: var(--xr-background-color-row-even);\n",
       "  margin-bottom: 0;\n",
       "}\n",
       "\n",
       ".xr-var-item > .xr-var-name:hover span {\n",
       "  padding-right: 5px;\n",
       "}\n",
       "\n",
       ".xr-var-list > li:nth-child(odd) > div,\n",
       ".xr-var-list > li:nth-child(odd) > label,\n",
       ".xr-var-list > li:nth-child(odd) > .xr-var-name span {\n",
       "  background-color: var(--xr-background-color-row-odd);\n",
       "}\n",
       "\n",
       ".xr-var-name {\n",
       "  grid-column: 1;\n",
       "}\n",
       "\n",
       ".xr-var-dims {\n",
       "  grid-column: 2;\n",
       "}\n",
       "\n",
       ".xr-var-dtype {\n",
       "  grid-column: 3;\n",
       "  text-align: right;\n",
       "  color: var(--xr-font-color2);\n",
       "}\n",
       "\n",
       ".xr-var-preview {\n",
       "  grid-column: 4;\n",
       "}\n",
       "\n",
       ".xr-var-name,\n",
       ".xr-var-dims,\n",
       ".xr-var-dtype,\n",
       ".xr-preview,\n",
       ".xr-attrs dt {\n",
       "  white-space: nowrap;\n",
       "  overflow: hidden;\n",
       "  text-overflow: ellipsis;\n",
       "  padding-right: 10px;\n",
       "}\n",
       "\n",
       ".xr-var-name:hover,\n",
       ".xr-var-dims:hover,\n",
       ".xr-var-dtype:hover,\n",
       ".xr-attrs dt:hover {\n",
       "  overflow: visible;\n",
       "  width: auto;\n",
       "  z-index: 1;\n",
       "}\n",
       "\n",
       ".xr-var-attrs,\n",
       ".xr-var-data {\n",
       "  display: none;\n",
       "  background-color: var(--xr-background-color) !important;\n",
       "  padding-bottom: 5px !important;\n",
       "}\n",
       "\n",
       ".xr-var-attrs-in:checked ~ .xr-var-attrs,\n",
       ".xr-var-data-in:checked ~ .xr-var-data {\n",
       "  display: block;\n",
       "}\n",
       "\n",
       ".xr-var-data > table {\n",
       "  float: right;\n",
       "}\n",
       "\n",
       ".xr-var-name span,\n",
       ".xr-var-data,\n",
       ".xr-attrs {\n",
       "  padding-left: 25px !important;\n",
       "}\n",
       "\n",
       ".xr-attrs,\n",
       ".xr-var-attrs,\n",
       ".xr-var-data {\n",
       "  grid-column: 1 / -1;\n",
       "}\n",
       "\n",
       "dl.xr-attrs {\n",
       "  padding: 0;\n",
       "  margin: 0;\n",
       "  display: grid;\n",
       "  grid-template-columns: 125px auto;\n",
       "}\n",
       "\n",
       ".xr-attrs dt, dd {\n",
       "  padding: 0;\n",
       "  margin: 0;\n",
       "  float: left;\n",
       "  padding-right: 10px;\n",
       "  width: auto;\n",
       "}\n",
       "\n",
       ".xr-attrs dt {\n",
       "  font-weight: normal;\n",
       "  grid-column: 1;\n",
       "}\n",
       "\n",
       ".xr-attrs dt:hover span {\n",
       "  display: inline-block;\n",
       "  background: var(--xr-background-color);\n",
       "  padding-right: 10px;\n",
       "}\n",
       "\n",
       ".xr-attrs dd {\n",
       "  grid-column: 2;\n",
       "  white-space: pre-wrap;\n",
       "  word-break: break-all;\n",
       "}\n",
       "\n",
       ".xr-icon-database,\n",
       ".xr-icon-file-text2 {\n",
       "  display: inline-block;\n",
       "  vertical-align: middle;\n",
       "  width: 1em;\n",
       "  height: 1.5em !important;\n",
       "  stroke-width: 0;\n",
       "  stroke: currentColor;\n",
       "  fill: currentColor;\n",
       "}\n",
       "</style><div class='xr-wrap'><div class='xr-header'><div class='xr-obj-type'>xarray.Dataset</div></div><ul class='xr-sections'><li class='xr-section-item'><input id='section-46fe5ba4-9f07-4775-9875-6ab3bcb377a0' class='xr-section-summary-in' type='checkbox' disabled ><label for='section-46fe5ba4-9f07-4775-9875-6ab3bcb377a0' class='xr-section-summary'  title='Expand/collapse section'>Dimensions:</label><div class='xr-section-inline-details'><ul class='xr-dim-list'><li><span>ncol</span>: 488624</li><li><span>ncol_d</span>: 1099406</li></ul></div><div class='xr-section-details'></div></li><li class='xr-section-item'><input id='section-7eec29f1-7aa3-4de0-93aa-f4d5dc4e8aa5' class='xr-section-summary-in' type='checkbox' disabled ><label for='section-7eec29f1-7aa3-4de0-93aa-f4d5dc4e8aa5' class='xr-section-summary'  title='Expand/collapse section'>Coordinates: <span>(0)</span></label><div class='xr-section-inline-details'></div><div class='xr-section-details'><ul class='xr-var-list'></ul></div></li><li class='xr-section-item'><input id='section-86df922b-d96e-497d-a02f-d5d85c70d75a' class='xr-section-summary-in' type='checkbox'  checked><label for='section-86df922b-d96e-497d-a02f-d5d85c70d75a' class='xr-section-summary' >Data variables: <span>(7)</span></label><div class='xr-section-inline-details'></div><div class='xr-section-details'><ul class='xr-var-list'><li class='xr-var-item'><div class='xr-var-name'><span>PHIS</span></div><div class='xr-var-dims'>(ncol)</div><div class='xr-var-dtype'>float64</div><div class='xr-var-preview xr-preview'>...</div><input id='attrs-c4213a43-f9b1-4091-b8fd-bcb051554dc0' class='xr-var-attrs-in' type='checkbox' ><label for='attrs-c4213a43-f9b1-4091-b8fd-bcb051554dc0' title='Show/Hide attributes'><svg class='icon xr-icon-file-text2'><use xlink:href='#icon-file-text2'></use></svg></label><input id='data-d8ea6218-9511-4094-ad19-a2ae3302481f' class='xr-var-data-in' type='checkbox'><label for='data-d8ea6218-9511-4094-ad19-a2ae3302481f' title='Show/Hide data repr'><svg class='icon xr-icon-database'><use xlink:href='#icon-database'></use></svg></label><div class='xr-var-attrs'><dl class='xr-attrs'><dt><span>long_name :</span></dt><dd>surface geopotential</dd><dt><span>units :</span></dt><dd>m2/s2</dd></dl></div><pre class='xr-var-data'>[488624 values with dtype=float64]</pre></li><li class='xr-var-item'><div class='xr-var-name'><span>LANDFRAC</span></div><div class='xr-var-dims'>(ncol)</div><div class='xr-var-dtype'>float64</div><div class='xr-var-preview xr-preview'>...</div><input id='attrs-91d3482e-9105-4d2d-96a7-a1bed9725fce' class='xr-var-attrs-in' type='checkbox' ><label for='attrs-91d3482e-9105-4d2d-96a7-a1bed9725fce' title='Show/Hide attributes'><svg class='icon xr-icon-file-text2'><use xlink:href='#icon-file-text2'></use></svg></label><input id='data-b671cb93-9588-443d-867c-90b7ba83e47d' class='xr-var-data-in' type='checkbox'><label for='data-b671cb93-9588-443d-867c-90b7ba83e47d' title='Show/Hide data repr'><svg class='icon xr-icon-database'><use xlink:href='#icon-database'></use></svg></label><div class='xr-var-attrs'><dl class='xr-attrs'><dt><span>long_name :</span></dt><dd>gridbox land fraction</dd></dl></div><pre class='xr-var-data'>[488624 values with dtype=float64]</pre></li><li class='xr-var-item'><div class='xr-var-name'><span>SGH</span></div><div class='xr-var-dims'>(ncol)</div><div class='xr-var-dtype'>float64</div><div class='xr-var-preview xr-preview'>...</div><input id='attrs-0de486de-cd99-4cf8-a03a-f55c8453b796' class='xr-var-attrs-in' type='checkbox' ><label for='attrs-0de486de-cd99-4cf8-a03a-f55c8453b796' title='Show/Hide attributes'><svg class='icon xr-icon-file-text2'><use xlink:href='#icon-file-text2'></use></svg></label><input id='data-db85d8e1-519c-48e0-b424-2c1870208a67' class='xr-var-data-in' type='checkbox'><label for='data-db85d8e1-519c-48e0-b424-2c1870208a67' title='Show/Hide data repr'><svg class='icon xr-icon-database'><use xlink:href='#icon-database'></use></svg></label><div class='xr-var-attrs'><dl class='xr-attrs'><dt><span>long_name :</span></dt><dd>standard deviation of 3km cubed-sphere elevation</dd><dt><span>units :</span></dt><dd>m</dd></dl></div><pre class='xr-var-data'>[488624 values with dtype=float64]</pre></li><li class='xr-var-item'><div class='xr-var-name'><span>SGH30</span></div><div class='xr-var-dims'>(ncol)</div><div class='xr-var-dtype'>float64</div><div class='xr-var-preview xr-preview'>...</div><input id='attrs-e2e756d4-3519-448d-b2fa-93903318f40b' class='xr-var-attrs-in' type='checkbox' ><label for='attrs-e2e756d4-3519-448d-b2fa-93903318f40b' title='Show/Hide attributes'><svg class='icon xr-icon-file-text2'><use xlink:href='#icon-file-text2'></use></svg></label><input id='data-9170aeea-0fe9-4931-a280-45f34947c82a' class='xr-var-data-in' type='checkbox'><label for='data-9170aeea-0fe9-4931-a280-45f34947c82a' title='Show/Hide data repr'><svg class='icon xr-icon-database'><use xlink:href='#icon-database'></use></svg></label><div class='xr-var-attrs'><dl class='xr-attrs'><dt><span>long_name :</span></dt><dd>standard deviation of 30s elevation from 3km cube</dd><dt><span>units :</span></dt><dd>m</dd></dl></div><pre class='xr-var-data'>[488624 values with dtype=float64]</pre></li><li class='xr-var-item'><div class='xr-var-name'><span>lat</span></div><div class='xr-var-dims'>(ncol)</div><div class='xr-var-dtype'>float64</div><div class='xr-var-preview xr-preview'>...</div><input id='attrs-35380277-c0e4-4001-b84e-7d7c2720a6d8' class='xr-var-attrs-in' type='checkbox' ><label for='attrs-35380277-c0e4-4001-b84e-7d7c2720a6d8' title='Show/Hide attributes'><svg class='icon xr-icon-file-text2'><use xlink:href='#icon-file-text2'></use></svg></label><input id='data-53863f56-c7f2-4b38-b002-ed8dcf60d7f4' class='xr-var-data-in' type='checkbox'><label for='data-53863f56-c7f2-4b38-b002-ed8dcf60d7f4' title='Show/Hide data repr'><svg class='icon xr-icon-database'><use xlink:href='#icon-database'></use></svg></label><div class='xr-var-attrs'><dl class='xr-attrs'><dt><span>long_name :</span></dt><dd>latitude</dd><dt><span>units :</span></dt><dd>degrees_north</dd></dl></div><pre class='xr-var-data'>[488624 values with dtype=float64]</pre></li><li class='xr-var-item'><div class='xr-var-name'><span>lon</span></div><div class='xr-var-dims'>(ncol)</div><div class='xr-var-dtype'>float64</div><div class='xr-var-preview xr-preview'>...</div><input id='attrs-3d1c24d7-00f9-4cfe-9d97-cf9ecb6b92cf' class='xr-var-attrs-in' type='checkbox' ><label for='attrs-3d1c24d7-00f9-4cfe-9d97-cf9ecb6b92cf' title='Show/Hide attributes'><svg class='icon xr-icon-file-text2'><use xlink:href='#icon-file-text2'></use></svg></label><input id='data-be1beb97-7653-405d-9d41-f649f24ed74f' class='xr-var-data-in' type='checkbox'><label for='data-be1beb97-7653-405d-9d41-f649f24ed74f' title='Show/Hide data repr'><svg class='icon xr-icon-database'><use xlink:href='#icon-database'></use></svg></label><div class='xr-var-attrs'><dl class='xr-attrs'><dt><span>long_name :</span></dt><dd>longitude</dd><dt><span>units :</span></dt><dd>degrees_east</dd></dl></div><pre class='xr-var-data'>[488624 values with dtype=float64]</pre></li><li class='xr-var-item'><div class='xr-var-name'><span>PHIS_d</span></div><div class='xr-var-dims'>(ncol_d)</div><div class='xr-var-dtype'>float64</div><div class='xr-var-preview xr-preview'>...</div><input id='attrs-f506e163-0ccc-42f5-bca7-df6ca3ca9e71' class='xr-var-attrs-in' type='checkbox' disabled><label for='attrs-f506e163-0ccc-42f5-bca7-df6ca3ca9e71' title='Show/Hide attributes'><svg class='icon xr-icon-file-text2'><use xlink:href='#icon-file-text2'></use></svg></label><input id='data-347bd838-ff02-42dd-8e4f-7a735d87f36f' class='xr-var-data-in' type='checkbox'><label for='data-347bd838-ff02-42dd-8e4f-7a735d87f36f' title='Show/Hide data repr'><svg class='icon xr-icon-database'><use xlink:href='#icon-database'></use></svg></label><div class='xr-var-attrs'><dl class='xr-attrs'></dl></div><pre class='xr-var-data'>[1099406 values with dtype=float64]</pre></li></ul></div></li><li class='xr-section-item'><input id='section-f94ed07b-f40c-4d89-af94-a4e71dfa72e6' class='xr-section-summary-in' type='checkbox'  checked><label for='section-f94ed07b-f40c-4d89-af94-a4e71dfa72e6' class='xr-section-summary' >Attributes: <span>(5)</span></label><div class='xr-section-inline-details'></div><div class='xr-section-details'><dl class='xr-attrs'><dt><span>source :</span></dt><dd>USGS 30-sec dataset binned to ncube3000 (cube-sphe</dd><dt><span>title :</span></dt><dd>30-second USGS topo data</dd><dt><span>history :</span></dt><dd>Fri Dec 10 15:44:33 2021: ncks -A /global/cscratch1/sd/crjones/e3sm/grids/enax32v2pg2/enax32v2pg2_smoothed_phis1.nc /global/cscratch1/sd/crjones/e3sm/grids/enax32v2pg2/USGS-gtopo30_enax32v2pg2_12xdel2.nc\n",
       "Created from /global/cscratch1/sd/crjones/e3sm/grids/enax32v2pg2/enax32v2pg4_topo.nc by HOMME gfr_pgn_to_smoothed_topo</dd><dt><span>history_of_appended_files :</span></dt><dd>Fri Dec 10 15:44:33 2021: Appended file /global/cscratch1/sd/crjones/e3sm/grids/enax32v2pg2/enax32v2pg2_smoothed_phis1.nc had following &quot;history&quot; attribute:\n",
       "Created from /global/cscratch1/sd/crjones/e3sm/grids/enax32v2pg2/enax32v2pg4_topo.nc by HOMME gfr_pgn_to_smoothed_topo\n",
       "</dd><dt><span>NCO :</span></dt><dd>netCDF Operators version 5.0.3 (Homepage = http://nco.sf.net, Code = http://github.com/nco/nco)</dd></dl></div></li></ul></div></div>"
      ],
      "text/plain": [
       "<xarray.Dataset>\n",
       "Dimensions:   (ncol: 488624, ncol_d: 1099406)\n",
       "Dimensions without coordinates: ncol, ncol_d\n",
       "Data variables:\n",
       "    PHIS      (ncol) float64 ...\n",
       "    LANDFRAC  (ncol) float64 ...\n",
       "    SGH       (ncol) float64 ...\n",
       "    SGH30     (ncol) float64 ...\n",
       "    lat       (ncol) float64 ...\n",
       "    lon       (ncol) float64 ...\n",
       "    PHIS_d    (ncol_d) float64 ...\n",
       "Attributes:\n",
       "    source:                     USGS 30-sec dataset binned to ncube3000 (cube...\n",
       "    title:                      30-second USGS topo data\n",
       "    history:                    Fri Dec 10 15:44:33 2021: ncks -A /global/csc...\n",
       "    history_of_appended_files:  Fri Dec 10 15:44:33 2021: Appended file /glob...\n",
       "    NCO:                        netCDF Operators version 5.0.3 (Homepage = ht..."
      ]
     },
     "execution_count": 237,
     "metadata": {},
     "output_type": "execute_result"
    }
   ],
   "source": [
    "# topography\n",
    "ds_topo = xr.open_dataset('/global/cscratch1/sd/crjones/e3sm/grids/enax32v2pg2/USGS-gtopo30_enax32v2pg2_12xdel2.nc')\n",
    "ds_topo"
   ]
  },
  {
   "cell_type": "code",
   "execution_count": 238,
   "id": "706bb8db-11aa-44c4-b6de-81e73efa6860",
   "metadata": {},
   "outputs": [
    {
     "data": {
      "text/plain": [
       "[<matplotlib.lines.Line2D at 0x2aaada302ad0>]"
      ]
     },
     "execution_count": 238,
     "metadata": {},
     "output_type": "execute_result"
    },
    {
     "data": {
      "image/png": "[encoded data removed]",
      "text/plain": [
       "<Figure size 432x288 with 1 Axes>"
      ]
     },
     "metadata": {
      "needs_background": "light"
     },
     "output_type": "display_data"
    }
   ],
   "source": [
    "ds_topo['PHIS'].plot()"
   ]
  },
  {
   "cell_type": "code",
   "execution_count": 239,
   "id": "065dddde-1a97-436f-bde7-7b120fe0861f",
   "metadata": {},
   "outputs": [
    {
     "data": {
      "text/plain": [
       "[<matplotlib.lines.Line2D at 0x2aaadd194d10>]"
      ]
     },
     "execution_count": 239,
     "metadata": {},
     "output_type": "execute_result"
    },
    {
     "data": {
      "image/png": "[encoded data removed]",
      "text/plain": [
       "<Figure size 432x288 with 1 Axes>"
      ]
     },
     "metadata": {
      "needs_background": "light"
     },
     "output_type": "display_data"
    }
   ],
   "source": [
    "ds_topo['PHIS_d'].plot()"
   ]
  },
  {
   "cell_type": "code",
   "execution_count": null,
   "id": "9c441932-f2fb-4d6d-8802-db70b4cc4da0",
   "metadata": {},
   "outputs": [],
   "source": [
    "# templated info ...\n",
    "\"\"\"\n",
    "------------------------------\n",
    "cime_config/config_grids.xml\n",
    "------------------------------\n",
    "\n",
    "    <model_grid alias=\"enax32v2pg2_r05_oRRS18to6v3\">\n",
    "      <grid name=\"atm\">ne0np4_enax32v2.pg2</grid>\n",
    "      <grid name=\"lnd\">r05</grid>\n",
    "      <grid name=\"ocnice\">oRRS18to6v3</grid>\n",
    "      <grid name=\"rof\">r05</grid>\n",
    "      <grid name=\"glc\">null</grid>\n",
    "      <grid name=\"wav\">null</grid>\n",
    "      <mask>oRRS18to6v3</mask>\n",
    "    </model_grid>\n",
    "\n",
    "    <domain name=\"ne0np4_enax32v2.pg2\">\n",
    "      <nx>488624</nx>\n",
    "      <ny>1</ny>\n",
    "      <file grid=\"atm|lnd\" mask=\"oRRS18to6v3\">/global/cscratch1/sd/crjones/e3sm/grids/enax32v2pg2/domain.lnd.enax32v2pg2_oRRS18to6v3.211210.nc</file>\n",
    "      <file grid=\"ice|ocn\" mask=\"oRRS18to6v3\">/global/cscratch1/sd/crjones/e3sm/grids/enax32v2pg2/domain.ocn.enax32v2pg2_oRRS18to6v3.211210.nc</file>\n",
    "      <desc>1-deg with ne1024pg2 over Eastern North Atlantic (version 0 test):</desc>\n",
    "    </domain>\n",
    "\n",
    "    <gridmap atm_grid=\"ne0np4_enax32v2.pg2\" ocn_grid=\"oRRS18to6v3\">\n",
    "      <map name=\"ATM2OCN_FMAPNAME\">/global/cscratch1/sd/crjones/e3sm/grids/enax32v2pg2/map_enax32v2pg2_to_oRRS18to6v3_mono.20211209.nc</map>\n",
    "      <map name=\"ATM2OCN_SMAPNAME\">/global/cscratch1/sd/crjones/e3sm/grids/enax32v2pg2/map_enax32v2pg2_to_oRRS18to6v3_bilin.20211209.nc</map>\n",
    "      <map name=\"ATM2OCN_VMAPNAME\">/global/cscratch1/sd/crjones/e3sm/grids/enax32v2pg2/map_enax32v2pg2_to_oRRS18to6v3_bilin.20211209.nc</map>\n",
    "      <map name=\"OCN2ATM_FMAPNAME\">/global/cscratch1/sd/crjones/e3sm/grids/enax32v2pg2/map_oRRS18to6v3_to_enax32v2pg2_mono.20211209.nc</map>\n",
    "      <map name=\"OCN2ATM_SMAPNAME\">/global/cscratch1/sd/crjones/e3sm/grids/enax32v2pg2/map_oRRS18to6v3_to_enax32v2pg2_mono.20211209.nc</map>\n",
    "    </gridmap>                                                                                                                                                               \n",
    "                                                                                                                                                                             \n",
    "    <gridmap atm_grid=\"ne0np4_enax32v2.pg2\" lnd_grid=\"r05\">\n",
    "      <map name=\"ATM2LND_FMAPNAME\">/global/cscratch1/sd/crjones/e3sm/grids/enax32v2pg2/map_enax32v2pg2_to_r05_mono.20211209.nc</map>\n",
    "      <map name=\"ATM2LND_SMAPNAME\">/global/cscratch1/sd/crjones/e3sm/grids/enax32v2pg2/map_enax32v2pg2_to_r05_bilin.20211209.nc</map>\n",
    "      <map name=\"LND2ATM_FMAPNAME\">/global/cscratch1/sd/crjones/e3sm/grids/enax32v2pg2/map_r05_to_enax32v2pg2_mono.20211209.nc</map>\n",
    "      <map name=\"LND2ATM_SMAPNAME\">/global/cscratch1/sd/crjones/e3sm/grids/enax32v2pg2/map_r05_to_enax32v2pg2_mono.20211209.nc</map>\n",
    "    </gridmap>\n",
    "\n",
    "    <gridmap atm_grid=\"ne0np4_enax32v2.pg2\" rof_grid=\"r05\">\n",
    "      <map name=\"ATM2ROF_FMAPNAME\">/global/cscratch1/sd/crjones/e3sm/grids/enax32v2pg2/map_enax32v2pg2_to_r05_mono.20211209.nc</map>\n",
    "      <map name=\"ATM2ROF_SMAPNAME\">/global/cscratch1/sd/crjones/e3sm/grids/enax32v2pg2/map_enax32v2pg2_to_r05_mono.20211209.nc</map>\n",
    "    </gridmap>\n",
    "    \n",
    "-------------------------------------------------\n",
    "components/eam/bld/config_files/horiz_grid.xml\n",
    "-------------------------------------------------\n",
    "<horiz_grid dyn=\"se\" hgrid=\"ne0np4_enax32v2.pg2\"              ncol=\"488624\" csne=\"0\" csnp=\"4\" npg=\"2\" />\n",
    "\n",
    "\n",
    "-------------------------------------------------------------\n",
    "components/eam/bld/namelist_files/namelist_defaults_eam.xml\n",
    "-------------------------------------------------------------\n",
    "<dtime dyn=\"se\"    hgrid=\"ne0np4_enax32v2.pg2\">900</dtime>\n",
    "<ncdata dyn=\"se\" hgrid=\"ne0np4_enax32v2.pg2\" nlev=\"72\">/global/cscratch1/sd/crjones/e3sm/grids/enax32v2pg2/HICCUP.atm_era5.2017-07-18.enax32v2pg2.L72.nc</ncdata>\n",
    "<bnd_topo hgrid=\"ne0np4_enax32v2\" npg=\"2\">/global/cscratch1/sd/crjones/e3sm/grids/enax32v2pg2/USGS-gtopo30_enax32v2pg2_12xdel2.nc</bnd_topo>\n",
    "<drydep_srf_file hgrid=\"ne0np4_enax32v2\" npg=\"2\">/global/cscratch1/sd/crjones/e3sm/grids/enax32v2pg2/atmsrf_enax32v2pg2_20211209.nc</drydep_srf_file>\n",
    "<se_ne hgrid=\"ne0np4_enax32v2\">0</se_ne>\n",
    "<mesh_file hgrid=\"ne0np4_enax32v2\">/global/cscratch1/sd/crjones/e3sm/grids/enax32v2pg2/enax32v2.g</mesh_file>\n",
    "<nu_top dyn_target=\"theta-l\" hgrid=\"ne0np4_enax32v2\"> 1e5 </nu_top>\n",
    "<se_tstep dyn_target=\"theta-l\" hgrid=\"ne0np4_enax32v2\"> 75 </se_tstep>\n",
    "<hypervis_subcycle dyn_target=\"theta-l\" hgrid=\"ne0np4_enax32v2\"  > 2 </hypervis_subcycle>\n",
    "<nu dyn_target=\"preqx\" hgrid=\"ne0np4_enax32v2\">8.0e-8</nu>\n",
    "<nu_div dyn_target=\"preqx\" hgrid=\"ne0np4_enax32v2\">20.0e-8</nu_div>\n",
    "<hypervis_scaling dyn_target=\"preqx\" hgrid=\"ne0np4_enax32v2\">3.2</hypervis_scaling>\n",
    "<se_nsplit dyn_target=\"preqx\" hgrid=\"ne0np4_enax32v2\">4</se_nsplit>\n",
    "<hypervis_subcycle hgrid=\"ne0np4_enax32v2\" dyn_target=\"preqx\">7</hypervis_subcycle>\n",
    "<fatmlndfrc hgrid=\"ne0np4_enax32v2\">/global/cscratch1/sd/crjones/e3sm/grids/enax32v2pg2/domain.lnd.enax32v2pg2_oRRS18to6v3.211210.nc</fatmlndfrc>\n",
    "<focndomain hgrid=\"ne0np4_enax32v2\">/global/cscratch1/sd/crjones/e3sm/grids/enax32v2pg2/domain.ocn.enax32v2pg2_oRRS18to6v3.211210.nc</focndomain>\n",
    "\n",
    "\"\"\""
   ]
  }
 ],
 "metadata": {
  "kernelspec": {
   "display_name": "spe3sm-jupyter",
   "language": "python",
   "name": "spe3sm-jupyter"
  },
  "language_info": {
   "codemirror_mode": {
    "name": "ipython",
    "version": 3
   },
   "file_extension": ".py",
   "mimetype": "text/x-python",
   "name": "python",
   "nbconvert_exporter": "python",
   "pygments_lexer": "ipython3",
   "version": "3.7.7"
  }
 },
 "nbformat": 4,
 "nbformat_minor": 5
}
